{
 "cells": [
  {
   "cell_type": "markdown",
   "metadata": {},
   "source": [
    "<center>\n",
    "<h4>Universidad Nacional de Córdoba - Facultad de Matemática, Astronomía, Física y Computación</h4>\n",
    "<h3>Diplomatura en Ciencia de Datos, Aprendizaje Automático y sus Aplicaciones</h3>\n",
    "</center>"
   ]
  },
  {
   "cell_type": "markdown",
   "metadata": {},
   "source": [
    "# Visualización de datos\n",
    "\n",
    "En esta notebook recorremos distintos tipos básicos de grafícos que pueden utilizarse en el análisis de datos, con aplicaciones prácticas. Nos centraremos no sólo el código para generarlos, sino también en algunos pequeños trucos para lograr gráficos más legibles.\n",
    "\n",
    "Es importante recordar que, a pesar de que esta notebook utiliza los datos para ejemplificar los gráficos, en la aplicación real de la ciencia de datos ocurre lo contrario. Debemos pensar primero en la pregunta a responder, y luego diseñar la visualización. Esto incluye:\n",
    "\n",
    "1. Encontrar el gráfico adecuado para los datos\n",
    "2. Agrupar los datos de manera que resalten el patrón que ayuda a responder la pregunta inicial.\n",
    "3. Encontrar los encodings visuales más efectivos para comunicar este patrón (aunque no vamos a hablar tanto de eso en esta notebook)."
   ]
  },
  {
   "cell_type": "markdown",
   "metadata": {},
   "source": [
    "Para nuestros ejemplos usaremos un conjunto de datos de [sysarmy](https://sysarmy.com.ar/blog/tag/sueldos/) que recolecta las respuestas a una encuenta de sueldos a programadores de países de América Latina. Si bien esta encuesta es informal, es una de las pocas fuentes de datos sobre las condiciones de trabajo de los programadores en nuestro entorno. Además de ello, recopila otros medidores demográficos que ayudan a comprender mejor las tendencias económicas. En este caso, sólo nos concentraremos en los resultados de Argentina en enero de 2019, para evitar las complicaciones de manejar distintas monedas y la infación del país.\n",
    "\n",
    "Pueden descargar el dataset directamente desde la [página de sysarmy](https://sysarmy.wordpress.com/2019/02/22/resultados-de-la-encuesta-de-sueldos-2019-1/) o desde [nuestro drive](https://drive.google.com/drive/folders/1yDFFyIiEf6wbA8LE7bVEBXBuz8Fq4dlv?usp=sharing)"
   ]
  },
  {
   "cell_type": "code",
   "execution_count": 1,
   "metadata": {},
   "outputs": [],
   "source": [
    "%matplotlib inline\n",
    "import matplotlib.pyplot as plt\n",
    "import numpy\n",
    "import pandas\n",
    "import seaborn"
   ]
  },
  {
   "cell_type": "code",
   "execution_count": 2,
   "metadata": {},
   "outputs": [
    {
     "data": {
      "text/plain": [
       "'0.9.0'"
      ]
     },
     "execution_count": 2,
     "metadata": {},
     "output_type": "execute_result"
    }
   ],
   "source": [
    "seaborn.__version__"
   ]
  },
  {
   "cell_type": "code",
   "execution_count": 3,
   "metadata": {},
   "outputs": [],
   "source": [
    "BLUE = '#35A7FF'\n",
    "RED = '#FF5964'\n",
    "GREEN = '#6BF178'\n",
    "YELLOW = '#FFE74C'"
   ]
  },
  {
   "cell_type": "code",
   "execution_count": 4,
   "metadata": {},
   "outputs": [],
   "source": [
    "# Con esto hacemos los gráficos más grandes, adecuados para el proyector.\n",
    "seaborn.set_context(context='talk', font_scale=1.2)"
   ]
  },
  {
   "cell_type": "code",
   "execution_count": 5,
   "metadata": {},
   "outputs": [],
   "source": [
    "dataset = pandas.read_csv(\n",
    "    'C:/Users/Javier/Documents/Mentoria DiploDatos 2019/Analisis y Visualización de Datos/AnalisisyVisualizacion-master/2019.1 - Encuesta de remuneración salarial - Argentina.csv', engine='python',\n",
    "    skiprows=[0,1,2])"
   ]
  },
  {
   "cell_type": "code",
   "execution_count": 6,
   "metadata": {},
   "outputs": [
    {
     "data": {
      "text/plain": [
       "Index(['Me identifico', 'Tengo', 'DÃ³nde estÃ¡s trabajando',\n",
       "       'AÃ±os de experiencia', 'AÃ±os en la empresa actual',\n",
       "       'AÃ±os en el puesto actual', 'Â¿Gente a cargo?',\n",
       "       'Nivel de estudios alcanzado', 'Estado', 'Carrera', 'Universidad',\n",
       "       'Realizaste cursos de especializaciÃ³n',\n",
       "       'Â¿ContribuÃ­s a proyectos open source?', 'Â¿ProgramÃ¡s como hobbie?',\n",
       "       'Trabajo de', 'Plataformas', 'Lenguajes de programaciÃ³n',\n",
       "       'Frameworks, herramientas y librerÃ­as', 'Bases de datos',\n",
       "       'QA / Testing', 'IDEs',\n",
       "       'Â¿QuÃ© SO usÃ¡s en tu laptop/PC para trabajar?', 'Â¿Y en tu celular?',\n",
       "       'Â¿TenÃ©s guardias?', 'CuÃ¡nto cobrÃ¡s por guardia',\n",
       "       'Â¿Porcentaje, bruto o neto?', 'Tipo de contrato',\n",
       "       'Salario mensual BRUTO (en tu moneda local)',\n",
       "       'Salario mensual NETO (en tu moneda local)',\n",
       "       'Â¿QuÃ© tan conforme estÃ¡s con tu sueldo?',\n",
       "       'CÃ³mo creÃ©s que estÃ¡ tu sueldo con respecto al Ãºltimo semestre',\n",
       "       'RecibÃ­s algÃºn tipo de bono', 'A quÃ© estÃ¡ atado el bono',\n",
       "       'Â¿Tuviste ajustes por inflaciÃ³n en 2018?',\n",
       "       'Â¿De quÃ© % fue el ajuste?', 'Â¿En quÃ© mes fue el Ãºltimo ajuste?',\n",
       "       'Â¿Sufriste o presenciaste situaciones de violencia laboral?',\n",
       "       'OrientaciÃ³n sexual', 'Â¿TenÃ©s algÃºn tipo de discapacidad?',\n",
       "       'Â¿SentÃ­s que esto te dificultÃ³ el conseguir trabajo?',\n",
       "       'Â¿A quÃ© eventos de tecnologÃ­a asististe en el Ãºltimo aÃ±o?',\n",
       "       'Cantidad de empleados', 'Actividad principal',\n",
       "       'Â¿La recomendÃ¡s como un buen lugar para trabajar?',\n",
       "       'Â¿CÃ³mo calificÃ¡s las polÃ­ticas de diversidad e inclusiÃ³n?',\n",
       "       'Â¿A cuÃ¡ntos kilÃ³metros de tu casa queda la oficina?',\n",
       "       'Beneficios extra'],\n",
       "      dtype='object')"
      ]
     },
     "execution_count": 6,
     "metadata": {},
     "output_type": "execute_result"
    }
   ],
   "source": [
    "dataset.columns"
   ]
  },
  {
   "cell_type": "markdown",
   "metadata": {},
   "source": [
    "## Tablas\n",
    "\n",
    "Las tablas son muchas veces dejadas de lado en las visualizaciones, pero son una de las formas de representación más poderosa. Usualmente partimos de una tabla para generar visualizaciones más complejas, pero esto no significa que generar buenas tablas no sea útil en el proceso de comunicación.\n",
    "\n",
    "* Muestran cantidades exactas\n",
    "* Representan cualquier tipo de datos\n",
    "* Son de acceso universal\n",
    "* Son fáciles de crear\n",
    "* Permiten comprar muchas variables\n",
    "\n",
    "Lo primero que tenemos que hacer para comenzar a enteder el dataset es ver los valores como una tabla, para indentificar la información en cada una de las columnas."
   ]
  },
  {
   "cell_type": "code",
   "execution_count": 7,
   "metadata": {},
   "outputs": [
    {
     "data": {
      "text/html": [
       "<div>\n",
       "<style scoped>\n",
       "    .dataframe tbody tr th:only-of-type {\n",
       "        vertical-align: middle;\n",
       "    }\n",
       "\n",
       "    .dataframe tbody tr th {\n",
       "        vertical-align: top;\n",
       "    }\n",
       "\n",
       "    .dataframe thead th {\n",
       "        text-align: right;\n",
       "    }\n",
       "</style>\n",
       "<table border=\"1\" class=\"dataframe\">\n",
       "  <thead>\n",
       "    <tr style=\"text-align: right;\">\n",
       "      <th></th>\n",
       "      <th>Me identifico</th>\n",
       "      <th>Tengo</th>\n",
       "      <th>DÃ³nde estÃ¡s trabajando</th>\n",
       "      <th>AÃ±os de experiencia</th>\n",
       "      <th>AÃ±os en la empresa actual</th>\n",
       "      <th>AÃ±os en el puesto actual</th>\n",
       "      <th>Â¿Gente a cargo?</th>\n",
       "      <th>Nivel de estudios alcanzado</th>\n",
       "      <th>Estado</th>\n",
       "      <th>Carrera</th>\n",
       "      <th>...</th>\n",
       "      <th>OrientaciÃ³n sexual</th>\n",
       "      <th>Â¿TenÃ©s algÃºn tipo de discapacidad?</th>\n",
       "      <th>Â¿SentÃ­s que esto te dificultÃ³ el conseguir trabajo?</th>\n",
       "      <th>Â¿A quÃ© eventos de tecnologÃ­a asististe en el Ãºltimo aÃ±o?</th>\n",
       "      <th>Cantidad de empleados</th>\n",
       "      <th>Actividad principal</th>\n",
       "      <th>Â¿La recomendÃ¡s como un buen lugar para trabajar?</th>\n",
       "      <th>Â¿CÃ³mo calificÃ¡s las polÃ­ticas de diversidad e inclusiÃ³n?</th>\n",
       "      <th>Â¿A cuÃ¡ntos kilÃ³metros de tu casa queda la oficina?</th>\n",
       "      <th>Beneficios extra</th>\n",
       "    </tr>\n",
       "  </thead>\n",
       "  <tbody>\n",
       "    <tr>\n",
       "      <th>0</th>\n",
       "      <td>Hombre</td>\n",
       "      <td>22</td>\n",
       "      <td>Catamarca</td>\n",
       "      <td>2.0</td>\n",
       "      <td>1.0</td>\n",
       "      <td>1.0</td>\n",
       "      <td>0</td>\n",
       "      <td>Universitario</td>\n",
       "      <td>En curso</td>\n",
       "      <td>ING informÃ¡tica</td>\n",
       "      <td>...</td>\n",
       "      <td>Heterosexual</td>\n",
       "      <td>NaN</td>\n",
       "      <td>NaN</td>\n",
       "      <td>NaN</td>\n",
       "      <td>1001-2000</td>\n",
       "      <td>Producto basado en Software</td>\n",
       "      <td>8</td>\n",
       "      <td>9</td>\n",
       "      <td>2.0</td>\n",
       "      <td>Capacitaciones y/o cursos</td>\n",
       "    </tr>\n",
       "    <tr>\n",
       "      <th>1</th>\n",
       "      <td>Hombre</td>\n",
       "      <td>23</td>\n",
       "      <td>Catamarca</td>\n",
       "      <td>2.0</td>\n",
       "      <td>1.0</td>\n",
       "      <td>1.0</td>\n",
       "      <td>0</td>\n",
       "      <td>Secundario</td>\n",
       "      <td>Completado</td>\n",
       "      <td>Ing informÃ¡tica</td>\n",
       "      <td>...</td>\n",
       "      <td>Heterosexual</td>\n",
       "      <td>NaN</td>\n",
       "      <td>NaN</td>\n",
       "      <td>Charlas online</td>\n",
       "      <td>51-100</td>\n",
       "      <td>Producto basado en Software</td>\n",
       "      <td>8</td>\n",
       "      <td>10</td>\n",
       "      <td>2.0</td>\n",
       "      <td>Capacitaciones y/o cursos, Licencia de paterni...</td>\n",
       "    </tr>\n",
       "    <tr>\n",
       "      <th>2</th>\n",
       "      <td>Mujer</td>\n",
       "      <td>35</td>\n",
       "      <td>Chaco</td>\n",
       "      <td>8.0</td>\n",
       "      <td>7.0</td>\n",
       "      <td>2.0</td>\n",
       "      <td>2</td>\n",
       "      <td>Posgrado</td>\n",
       "      <td>En curso</td>\n",
       "      <td>MTI</td>\n",
       "      <td>...</td>\n",
       "      <td>dgsdg</td>\n",
       "      <td>NaN</td>\n",
       "      <td>No</td>\n",
       "      <td>varios</td>\n",
       "      <td>201-500</td>\n",
       "      <td>Otras industrias</td>\n",
       "      <td>4</td>\n",
       "      <td>4</td>\n",
       "      <td>0.2</td>\n",
       "      <td>Capacitaciones y/o cursos, Licencia de paterni...</td>\n",
       "    </tr>\n",
       "    <tr>\n",
       "      <th>3</th>\n",
       "      <td>Hombre</td>\n",
       "      <td>41</td>\n",
       "      <td>Chaco</td>\n",
       "      <td>20.0</td>\n",
       "      <td>2.0</td>\n",
       "      <td>10.0</td>\n",
       "      <td>0</td>\n",
       "      <td>Universitario</td>\n",
       "      <td>Completado</td>\n",
       "      <td>Lic en sistemas</td>\n",
       "      <td>...</td>\n",
       "      <td>Heterosexual</td>\n",
       "      <td>NaN</td>\n",
       "      <td>NaN</td>\n",
       "      <td>Ninguno</td>\n",
       "      <td>1-10</td>\n",
       "      <td>Servicios / ConsultorÃ­a de Software / Digital</td>\n",
       "      <td>5</td>\n",
       "      <td>1</td>\n",
       "      <td>-1.0</td>\n",
       "      <td>Horarios flexibles, Vacaciones flexibles (adic...</td>\n",
       "    </tr>\n",
       "    <tr>\n",
       "      <th>4</th>\n",
       "      <td>Hombre</td>\n",
       "      <td>35</td>\n",
       "      <td>Chaco</td>\n",
       "      <td>5.0</td>\n",
       "      <td>3.0</td>\n",
       "      <td>2.0</td>\n",
       "      <td>0</td>\n",
       "      <td>Universitario</td>\n",
       "      <td>Completado</td>\n",
       "      <td>Analisis en Sistemas</td>\n",
       "      <td>...</td>\n",
       "      <td>Heterosexual</td>\n",
       "      <td>NaN</td>\n",
       "      <td>No</td>\n",
       "      <td>NaN</td>\n",
       "      <td>501-1000</td>\n",
       "      <td>Producto basado en Software</td>\n",
       "      <td>8</td>\n",
       "      <td>8</td>\n",
       "      <td>1.0</td>\n",
       "      <td>Capacitaciones y/o cursos, Clases de idiomas, ...</td>\n",
       "    </tr>\n",
       "    <tr>\n",
       "      <th>5</th>\n",
       "      <td>Hombre</td>\n",
       "      <td>38</td>\n",
       "      <td>Chaco</td>\n",
       "      <td>16.0</td>\n",
       "      <td>16.0</td>\n",
       "      <td>16.0</td>\n",
       "      <td>0</td>\n",
       "      <td>Terciario</td>\n",
       "      <td>Incompleto</td>\n",
       "      <td>Analista de Sistemas</td>\n",
       "      <td>...</td>\n",
       "      <td>Heterosexual</td>\n",
       "      <td>NaN</td>\n",
       "      <td>No</td>\n",
       "      <td>Ninguno</td>\n",
       "      <td>201-500</td>\n",
       "      <td>Otras industrias</td>\n",
       "      <td>6</td>\n",
       "      <td>4</td>\n",
       "      <td>2.0</td>\n",
       "      <td>Ninguna de las anteriores</td>\n",
       "    </tr>\n",
       "    <tr>\n",
       "      <th>6</th>\n",
       "      <td>Hombre</td>\n",
       "      <td>30</td>\n",
       "      <td>Chaco</td>\n",
       "      <td>9.0</td>\n",
       "      <td>5.0</td>\n",
       "      <td>5.0</td>\n",
       "      <td>3</td>\n",
       "      <td>Terciario</td>\n",
       "      <td>Completado</td>\n",
       "      <td>T S P</td>\n",
       "      <td>...</td>\n",
       "      <td>Heterosexual</td>\n",
       "      <td>NaN</td>\n",
       "      <td>No</td>\n",
       "      <td>NaN</td>\n",
       "      <td>201-500</td>\n",
       "      <td>Otras industrias</td>\n",
       "      <td>6</td>\n",
       "      <td>10</td>\n",
       "      <td>2.0</td>\n",
       "      <td>Abono de celular y/o Internet, Comidas pagas/s...</td>\n",
       "    </tr>\n",
       "    <tr>\n",
       "      <th>7</th>\n",
       "      <td>Hombre</td>\n",
       "      <td>32</td>\n",
       "      <td>Chaco</td>\n",
       "      <td>10.0</td>\n",
       "      <td>2.0</td>\n",
       "      <td>2.0</td>\n",
       "      <td>0</td>\n",
       "      <td>Universitario</td>\n",
       "      <td>Incompleto</td>\n",
       "      <td>Ing. en Sistemas</td>\n",
       "      <td>...</td>\n",
       "      <td>Heterosexual</td>\n",
       "      <td>NaN</td>\n",
       "      <td>NaN</td>\n",
       "      <td>Ninguno :(</td>\n",
       "      <td>1001-2000</td>\n",
       "      <td>Otras industrias</td>\n",
       "      <td>5</td>\n",
       "      <td>5</td>\n",
       "      <td>5.0</td>\n",
       "      <td>Ninguna de las anteriores</td>\n",
       "    </tr>\n",
       "    <tr>\n",
       "      <th>8</th>\n",
       "      <td>Hombre</td>\n",
       "      <td>28</td>\n",
       "      <td>Chaco</td>\n",
       "      <td>7.0</td>\n",
       "      <td>3.0</td>\n",
       "      <td>1.0</td>\n",
       "      <td>2</td>\n",
       "      <td>Universitario</td>\n",
       "      <td>Incompleto</td>\n",
       "      <td>IngenierÃ­a en Sistemas</td>\n",
       "      <td>...</td>\n",
       "      <td>Heterosexual</td>\n",
       "      <td>NaN</td>\n",
       "      <td>No</td>\n",
       "      <td>NaN</td>\n",
       "      <td>51-100</td>\n",
       "      <td>Servicios / ConsultorÃ­a de Software / Digital</td>\n",
       "      <td>10</td>\n",
       "      <td>5</td>\n",
       "      <td>-1.0</td>\n",
       "      <td>Horarios flexibles, Vacaciones flexibles (adic...</td>\n",
       "    </tr>\n",
       "    <tr>\n",
       "      <th>9</th>\n",
       "      <td>Hombre</td>\n",
       "      <td>29</td>\n",
       "      <td>Chaco</td>\n",
       "      <td>0.0</td>\n",
       "      <td>0.0</td>\n",
       "      <td>0.0</td>\n",
       "      <td>0</td>\n",
       "      <td>Universitario</td>\n",
       "      <td>En curso</td>\n",
       "      <td>Ingenieria en Sistemas</td>\n",
       "      <td>...</td>\n",
       "      <td>Heterosexual</td>\n",
       "      <td>NaN</td>\n",
       "      <td>No</td>\n",
       "      <td>NaN</td>\n",
       "      <td>501-1000</td>\n",
       "      <td>Producto basado en Software</td>\n",
       "      <td>5</td>\n",
       "      <td>5</td>\n",
       "      <td>3.0</td>\n",
       "      <td>Capacitaciones y/o cursos</td>\n",
       "    </tr>\n",
       "  </tbody>\n",
       "</table>\n",
       "<p>10 rows × 47 columns</p>\n",
       "</div>"
      ],
      "text/plain": [
       "  Me identifico  Tengo DÃ³nde estÃ¡s trabajando  AÃ±os de experiencia  \\\n",
       "0        Hombre     22                Catamarca                   2.0   \n",
       "1        Hombre     23                Catamarca                   2.0   \n",
       "2         Mujer     35                    Chaco                   8.0   \n",
       "3        Hombre     41                    Chaco                  20.0   \n",
       "4        Hombre     35                    Chaco                   5.0   \n",
       "5        Hombre     38                    Chaco                  16.0   \n",
       "6        Hombre     30                    Chaco                   9.0   \n",
       "7        Hombre     32                    Chaco                  10.0   \n",
       "8        Hombre     28                    Chaco                   7.0   \n",
       "9        Hombre     29                    Chaco                   0.0   \n",
       "\n",
       "   AÃ±os en la empresa actual  AÃ±os en el puesto actual  Â¿Gente a cargo?  \\\n",
       "0                         1.0                        1.0                 0   \n",
       "1                         1.0                        1.0                 0   \n",
       "2                         7.0                        2.0                 2   \n",
       "3                         2.0                       10.0                 0   \n",
       "4                         3.0                        2.0                 0   \n",
       "5                        16.0                       16.0                 0   \n",
       "6                         5.0                        5.0                 3   \n",
       "7                         2.0                        2.0                 0   \n",
       "8                         3.0                        1.0                 2   \n",
       "9                         0.0                        0.0                 0   \n",
       "\n",
       "  Nivel de estudios alcanzado      Estado                  Carrera  \\\n",
       "0               Universitario    En curso         ING informÃ¡tica   \n",
       "1                  Secundario  Completado         Ing informÃ¡tica   \n",
       "2                    Posgrado    En curso                      MTI   \n",
       "3               Universitario  Completado         Lic en sistemas    \n",
       "4               Universitario  Completado     Analisis en Sistemas   \n",
       "5                   Terciario  Incompleto     Analista de Sistemas   \n",
       "6                   Terciario  Completado                    T S P   \n",
       "7               Universitario  Incompleto         Ing. en Sistemas   \n",
       "8               Universitario  Incompleto  IngenierÃ­a en Sistemas   \n",
       "9               Universitario    En curso   Ingenieria en Sistemas   \n",
       "\n",
       "                         ...                         OrientaciÃ³n sexual  \\\n",
       "0                        ...                                Heterosexual   \n",
       "1                        ...                                Heterosexual   \n",
       "2                        ...                                       dgsdg   \n",
       "3                        ...                                Heterosexual   \n",
       "4                        ...                                Heterosexual   \n",
       "5                        ...                                Heterosexual   \n",
       "6                        ...                                Heterosexual   \n",
       "7                        ...                                Heterosexual   \n",
       "8                        ...                                Heterosexual   \n",
       "9                        ...                                Heterosexual   \n",
       "\n",
       "  Â¿TenÃ©s algÃºn tipo de discapacidad?  \\\n",
       "0                                   NaN   \n",
       "1                                   NaN   \n",
       "2                                   NaN   \n",
       "3                                   NaN   \n",
       "4                                   NaN   \n",
       "5                                   NaN   \n",
       "6                                   NaN   \n",
       "7                                   NaN   \n",
       "8                                   NaN   \n",
       "9                                   NaN   \n",
       "\n",
       "  Â¿SentÃ­s que esto te dificultÃ³ el conseguir trabajo?  \\\n",
       "0                                                NaN       \n",
       "1                                                NaN       \n",
       "2                                                 No       \n",
       "3                                                NaN       \n",
       "4                                                 No       \n",
       "5                                                 No       \n",
       "6                                                 No       \n",
       "7                                                NaN       \n",
       "8                                                 No       \n",
       "9                                                 No       \n",
       "\n",
       "  Â¿A quÃ© eventos de tecnologÃ­a asististe en el Ãºltimo aÃ±o?  \\\n",
       "0                                                NaN              \n",
       "1                                     Charlas online              \n",
       "2                                             varios              \n",
       "3                                            Ninguno              \n",
       "4                                                NaN              \n",
       "5                                            Ninguno              \n",
       "6                                                NaN              \n",
       "7                                         Ninguno :(              \n",
       "8                                                NaN              \n",
       "9                                                NaN              \n",
       "\n",
       "  Cantidad de empleados                             Actividad principal  \\\n",
       "0             1001-2000                     Producto basado en Software   \n",
       "1                51-100                     Producto basado en Software   \n",
       "2               201-500                                Otras industrias   \n",
       "3                  1-10  Servicios / ConsultorÃ­a de Software / Digital   \n",
       "4              501-1000                     Producto basado en Software   \n",
       "5               201-500                                Otras industrias   \n",
       "6               201-500                                Otras industrias   \n",
       "7             1001-2000                                Otras industrias   \n",
       "8                51-100  Servicios / ConsultorÃ­a de Software / Digital   \n",
       "9              501-1000                     Producto basado en Software   \n",
       "\n",
       "  Â¿La recomendÃ¡s como un buen lugar para trabajar?  \\\n",
       "0                                                  8   \n",
       "1                                                  8   \n",
       "2                                                  4   \n",
       "3                                                  5   \n",
       "4                                                  8   \n",
       "5                                                  6   \n",
       "6                                                  6   \n",
       "7                                                  5   \n",
       "8                                                 10   \n",
       "9                                                  5   \n",
       "\n",
       "  Â¿CÃ³mo calificÃ¡s las polÃ­ticas de diversidad e inclusiÃ³n?  \\\n",
       "0                                                  9              \n",
       "1                                                 10              \n",
       "2                                                  4              \n",
       "3                                                  1              \n",
       "4                                                  8              \n",
       "5                                                  4              \n",
       "6                                                 10              \n",
       "7                                                  5              \n",
       "8                                                  5              \n",
       "9                                                  5              \n",
       "\n",
       "  Â¿A cuÃ¡ntos kilÃ³metros de tu casa queda la oficina?  \\\n",
       "0                                                2.0      \n",
       "1                                                2.0      \n",
       "2                                                0.2      \n",
       "3                                               -1.0      \n",
       "4                                                1.0      \n",
       "5                                                2.0      \n",
       "6                                                2.0      \n",
       "7                                                5.0      \n",
       "8                                               -1.0      \n",
       "9                                                3.0      \n",
       "\n",
       "                                    Beneficios extra  \n",
       "0                          Capacitaciones y/o cursos  \n",
       "1  Capacitaciones y/o cursos, Licencia de paterni...  \n",
       "2  Capacitaciones y/o cursos, Licencia de paterni...  \n",
       "3  Horarios flexibles, Vacaciones flexibles (adic...  \n",
       "4  Capacitaciones y/o cursos, Clases de idiomas, ...  \n",
       "5                          Ninguna de las anteriores  \n",
       "6  Abono de celular y/o Internet, Comidas pagas/s...  \n",
       "7                          Ninguna de las anteriores  \n",
       "8  Horarios flexibles, Vacaciones flexibles (adic...  \n",
       "9                          Capacitaciones y/o cursos  \n",
       "\n",
       "[10 rows x 47 columns]"
      ]
     },
     "execution_count": 7,
     "metadata": {},
     "output_type": "execute_result"
    }
   ],
   "source": [
    "dataset[:10]"
   ]
  },
  {
   "cell_type": "markdown",
   "metadata": {},
   "source": [
    "También pandas nos permite otras operaciones simples de estadística descriptiva. En la siguiente línea, estamos filtrando las filas que se identifican como *Hombres* y describiendo la distribución de la columna *¿Qué tan conforme estás con tu sueldo?*"
   ]
  },
  {
   "cell_type": "code",
   "execution_count": 8,
   "metadata": {},
   "outputs": [
    {
     "data": {
      "text/plain": [
       "(4482, 47)"
      ]
     },
     "execution_count": 8,
     "metadata": {},
     "output_type": "execute_result"
    }
   ],
   "source": [
    "# Cantidad de filas y de columnas\n",
    "dataset.shape"
   ]
  },
  {
   "cell_type": "code",
   "execution_count": 9,
   "metadata": {},
   "outputs": [
    {
     "data": {
      "text/html": [
       "<div>\n",
       "<style scoped>\n",
       "    .dataframe tbody tr th:only-of-type {\n",
       "        vertical-align: middle;\n",
       "    }\n",
       "\n",
       "    .dataframe tbody tr th {\n",
       "        vertical-align: top;\n",
       "    }\n",
       "\n",
       "    .dataframe thead th {\n",
       "        text-align: right;\n",
       "    }\n",
       "</style>\n",
       "<table border=\"1\" class=\"dataframe\">\n",
       "  <thead>\n",
       "    <tr style=\"text-align: right;\">\n",
       "      <th></th>\n",
       "      <th>Tengo</th>\n",
       "      <th>AÃ±os de experiencia</th>\n",
       "      <th>AÃ±os en la empresa actual</th>\n",
       "      <th>AÃ±os en el puesto actual</th>\n",
       "      <th>Â¿Gente a cargo?</th>\n",
       "      <th>CuÃ¡nto cobrÃ¡s por guardia</th>\n",
       "      <th>Salario mensual BRUTO (en tu moneda local)</th>\n",
       "      <th>Salario mensual NETO (en tu moneda local)</th>\n",
       "      <th>Â¿QuÃ© tan conforme estÃ¡s con tu sueldo?</th>\n",
       "      <th>CÃ³mo creÃ©s que estÃ¡ tu sueldo con respecto al Ãºltimo semestre</th>\n",
       "      <th>Â¿De quÃ© % fue el ajuste?</th>\n",
       "      <th>Â¿En quÃ© mes fue el Ãºltimo ajuste?</th>\n",
       "      <th>Â¿La recomendÃ¡s como un buen lugar para trabajar?</th>\n",
       "      <th>Â¿CÃ³mo calificÃ¡s las polÃ­ticas de diversidad e inclusiÃ³n?</th>\n",
       "      <th>Â¿A cuÃ¡ntos kilÃ³metros de tu casa queda la oficina?</th>\n",
       "    </tr>\n",
       "  </thead>\n",
       "  <tbody>\n",
       "    <tr>\n",
       "      <th>count</th>\n",
       "      <td>3890.000000</td>\n",
       "      <td>3890.000000</td>\n",
       "      <td>3890.000000</td>\n",
       "      <td>3890.000000</td>\n",
       "      <td>3890.000000</td>\n",
       "      <td>3890.000000</td>\n",
       "      <td>3.890000e+03</td>\n",
       "      <td>3.737000e+03</td>\n",
       "      <td>3890.000000</td>\n",
       "      <td>3890.000000</td>\n",
       "      <td>3890.000000</td>\n",
       "      <td>3890.000000</td>\n",
       "      <td>3890.000000</td>\n",
       "      <td>3890.000000</td>\n",
       "      <td>3890.000000</td>\n",
       "    </tr>\n",
       "    <tr>\n",
       "      <th>mean</th>\n",
       "      <td>33.029563</td>\n",
       "      <td>10.276555</td>\n",
       "      <td>12.546658</td>\n",
       "      <td>3.318329</td>\n",
       "      <td>2.055784</td>\n",
       "      <td>376.018026</td>\n",
       "      <td>6.150694e+04</td>\n",
       "      <td>4.893867e+04</td>\n",
       "      <td>2.560154</td>\n",
       "      <td>2.308740</td>\n",
       "      <td>21.161902</td>\n",
       "      <td>7.609512</td>\n",
       "      <td>7.005913</td>\n",
       "      <td>7.331105</td>\n",
       "      <td>12.311370</td>\n",
       "    </tr>\n",
       "    <tr>\n",
       "      <th>std</th>\n",
       "      <td>18.826034</td>\n",
       "      <td>43.162635</td>\n",
       "      <td>514.042433</td>\n",
       "      <td>5.929449</td>\n",
       "      <td>17.721140</td>\n",
       "      <td>3947.658731</td>\n",
       "      <td>7.807387e+04</td>\n",
       "      <td>7.411847e+04</td>\n",
       "      <td>0.840359</td>\n",
       "      <td>0.923146</td>\n",
       "      <td>16.995814</td>\n",
       "      <td>4.631603</td>\n",
       "      <td>2.126064</td>\n",
       "      <td>2.398976</td>\n",
       "      <td>29.720029</td>\n",
       "    </tr>\n",
       "    <tr>\n",
       "      <th>min</th>\n",
       "      <td>16.000000</td>\n",
       "      <td>0.000000</td>\n",
       "      <td>0.000000</td>\n",
       "      <td>0.000000</td>\n",
       "      <td>0.000000</td>\n",
       "      <td>0.000000</td>\n",
       "      <td>1.000000e+00</td>\n",
       "      <td>1.000000e+00</td>\n",
       "      <td>1.000000</td>\n",
       "      <td>1.000000</td>\n",
       "      <td>0.000000</td>\n",
       "      <td>0.000000</td>\n",
       "      <td>1.000000</td>\n",
       "      <td>1.000000</td>\n",
       "      <td>-1.000000</td>\n",
       "    </tr>\n",
       "    <tr>\n",
       "      <th>25%</th>\n",
       "      <td>27.000000</td>\n",
       "      <td>4.000000</td>\n",
       "      <td>1.000000</td>\n",
       "      <td>1.000000</td>\n",
       "      <td>0.000000</td>\n",
       "      <td>0.000000</td>\n",
       "      <td>3.382500e+04</td>\n",
       "      <td>2.800000e+04</td>\n",
       "      <td>2.000000</td>\n",
       "      <td>2.000000</td>\n",
       "      <td>9.000000</td>\n",
       "      <td>1.000000</td>\n",
       "      <td>6.000000</td>\n",
       "      <td>6.000000</td>\n",
       "      <td>2.000000</td>\n",
       "    </tr>\n",
       "    <tr>\n",
       "      <th>50%</th>\n",
       "      <td>32.000000</td>\n",
       "      <td>9.000000</td>\n",
       "      <td>2.000000</td>\n",
       "      <td>2.000000</td>\n",
       "      <td>0.000000</td>\n",
       "      <td>0.000000</td>\n",
       "      <td>5.000000e+04</td>\n",
       "      <td>4.050400e+04</td>\n",
       "      <td>3.000000</td>\n",
       "      <td>2.000000</td>\n",
       "      <td>20.000000</td>\n",
       "      <td>10.000000</td>\n",
       "      <td>7.000000</td>\n",
       "      <td>8.000000</td>\n",
       "      <td>6.000000</td>\n",
       "    </tr>\n",
       "    <tr>\n",
       "      <th>75%</th>\n",
       "      <td>37.000000</td>\n",
       "      <td>14.000000</td>\n",
       "      <td>5.000000</td>\n",
       "      <td>4.000000</td>\n",
       "      <td>1.000000</td>\n",
       "      <td>0.000000</td>\n",
       "      <td>7.155125e+04</td>\n",
       "      <td>5.520000e+04</td>\n",
       "      <td>3.000000</td>\n",
       "      <td>3.000000</td>\n",
       "      <td>30.000000</td>\n",
       "      <td>11.000000</td>\n",
       "      <td>8.000000</td>\n",
       "      <td>9.000000</td>\n",
       "      <td>15.000000</td>\n",
       "    </tr>\n",
       "    <tr>\n",
       "      <th>max</th>\n",
       "      <td>1111.000000</td>\n",
       "      <td>2666.000000</td>\n",
       "      <td>32000.000000</td>\n",
       "      <td>266.000000</td>\n",
       "      <td>980.000000</td>\n",
       "      <td>190000.000000</td>\n",
       "      <td>3.572000e+06</td>\n",
       "      <td>3.572000e+06</td>\n",
       "      <td>4.000000</td>\n",
       "      <td>4.000000</td>\n",
       "      <td>100.000000</td>\n",
       "      <td>12.000000</td>\n",
       "      <td>10.000000</td>\n",
       "      <td>10.000000</td>\n",
       "      <td>1200.000000</td>\n",
       "    </tr>\n",
       "  </tbody>\n",
       "</table>\n",
       "</div>"
      ],
      "text/plain": [
       "             Tengo  AÃ±os de experiencia  AÃ±os en la empresa actual  \\\n",
       "count  3890.000000           3890.000000                 3890.000000   \n",
       "mean     33.029563             10.276555                   12.546658   \n",
       "std      18.826034             43.162635                  514.042433   \n",
       "min      16.000000              0.000000                    0.000000   \n",
       "25%      27.000000              4.000000                    1.000000   \n",
       "50%      32.000000              9.000000                    2.000000   \n",
       "75%      37.000000             14.000000                    5.000000   \n",
       "max    1111.000000           2666.000000                32000.000000   \n",
       "\n",
       "       AÃ±os en el puesto actual  Â¿Gente a cargo?  \\\n",
       "count                3890.000000       3890.000000   \n",
       "mean                    3.318329          2.055784   \n",
       "std                     5.929449         17.721140   \n",
       "min                     0.000000          0.000000   \n",
       "25%                     1.000000          0.000000   \n",
       "50%                     2.000000          0.000000   \n",
       "75%                     4.000000          1.000000   \n",
       "max                   266.000000        980.000000   \n",
       "\n",
       "       CuÃ¡nto cobrÃ¡s por guardia  \\\n",
       "count                  3890.000000   \n",
       "mean                    376.018026   \n",
       "std                    3947.658731   \n",
       "min                       0.000000   \n",
       "25%                       0.000000   \n",
       "50%                       0.000000   \n",
       "75%                       0.000000   \n",
       "max                  190000.000000   \n",
       "\n",
       "       Salario mensual BRUTO (en tu moneda local)  \\\n",
       "count                                3.890000e+03   \n",
       "mean                                 6.150694e+04   \n",
       "std                                  7.807387e+04   \n",
       "min                                  1.000000e+00   \n",
       "25%                                  3.382500e+04   \n",
       "50%                                  5.000000e+04   \n",
       "75%                                  7.155125e+04   \n",
       "max                                  3.572000e+06   \n",
       "\n",
       "       Salario mensual NETO (en tu moneda local)  \\\n",
       "count                               3.737000e+03   \n",
       "mean                                4.893867e+04   \n",
       "std                                 7.411847e+04   \n",
       "min                                 1.000000e+00   \n",
       "25%                                 2.800000e+04   \n",
       "50%                                 4.050400e+04   \n",
       "75%                                 5.520000e+04   \n",
       "max                                 3.572000e+06   \n",
       "\n",
       "       Â¿QuÃ© tan conforme estÃ¡s con tu sueldo?  \\\n",
       "count                                3890.000000   \n",
       "mean                                    2.560154   \n",
       "std                                     0.840359   \n",
       "min                                     1.000000   \n",
       "25%                                     2.000000   \n",
       "50%                                     3.000000   \n",
       "75%                                     3.000000   \n",
       "max                                     4.000000   \n",
       "\n",
       "       CÃ³mo creÃ©s que estÃ¡ tu sueldo con respecto al Ãºltimo semestre  \\\n",
       "count                                        3890.000000                   \n",
       "mean                                            2.308740                   \n",
       "std                                             0.923146                   \n",
       "min                                             1.000000                   \n",
       "25%                                             2.000000                   \n",
       "50%                                             2.000000                   \n",
       "75%                                             3.000000                   \n",
       "max                                             4.000000                   \n",
       "\n",
       "       Â¿De quÃ© % fue el ajuste?  Â¿En quÃ© mes fue el Ãºltimo ajuste?  \\\n",
       "count                 3890.000000                           3890.000000   \n",
       "mean                    21.161902                              7.609512   \n",
       "std                     16.995814                              4.631603   \n",
       "min                      0.000000                              0.000000   \n",
       "25%                      9.000000                              1.000000   \n",
       "50%                     20.000000                             10.000000   \n",
       "75%                     30.000000                             11.000000   \n",
       "max                    100.000000                             12.000000   \n",
       "\n",
       "       Â¿La recomendÃ¡s como un buen lugar para trabajar?  \\\n",
       "count                                        3890.000000    \n",
       "mean                                            7.005913    \n",
       "std                                             2.126064    \n",
       "min                                             1.000000    \n",
       "25%                                             6.000000    \n",
       "50%                                             7.000000    \n",
       "75%                                             8.000000    \n",
       "max                                            10.000000    \n",
       "\n",
       "       Â¿CÃ³mo calificÃ¡s las polÃ­ticas de diversidad e inclusiÃ³n?  \\\n",
       "count                                        3890.000000               \n",
       "mean                                            7.331105               \n",
       "std                                             2.398976               \n",
       "min                                             1.000000               \n",
       "25%                                             6.000000               \n",
       "50%                                             8.000000               \n",
       "75%                                             9.000000               \n",
       "max                                            10.000000               \n",
       "\n",
       "       Â¿A cuÃ¡ntos kilÃ³metros de tu casa queda la oficina?  \n",
       "count                                        3890.000000      \n",
       "mean                                           12.311370      \n",
       "std                                            29.720029      \n",
       "min                                            -1.000000      \n",
       "25%                                             2.000000      \n",
       "50%                                             6.000000      \n",
       "75%                                            15.000000      \n",
       "max                                          1200.000000      "
      ]
     },
     "execution_count": 9,
     "metadata": {},
     "output_type": "execute_result"
    }
   ],
   "source": [
    "dataset[dataset['Me identifico'] == 'Hombre'].describe()"
   ]
  },
  {
   "cell_type": "code",
   "execution_count": 10,
   "metadata": {},
   "outputs": [
    {
     "data": {
      "text/plain": [
       "count    3890.000000\n",
       "mean        2.560154\n",
       "std         0.840359\n",
       "min         1.000000\n",
       "25%         2.000000\n",
       "50%         3.000000\n",
       "75%         3.000000\n",
       "max         4.000000\n",
       "Name: Â¿QuÃ© tan conforme estÃ¡s con tu sueldo?, dtype: float64"
      ]
     },
     "execution_count": 10,
     "metadata": {},
     "output_type": "execute_result"
    }
   ],
   "source": [
    "# Descripción de la distribución de la variable \"¿Qué tan conforme estás con tu sueldo?\"\n",
    "# solo en los registros donde \"Me identifico\" tiene el valor Hombre\n",
    "dataset[dataset['Me identifico'] == 'Hombre']['Â¿QuÃ© tan conforme estÃ¡s con tu sueldo?'].describe()"
   ]
  },
  {
   "cell_type": "markdown",
   "metadata": {},
   "source": [
    "## Gráficos de barra\n",
    "\n",
    "Comparan **cantidades numéricas** entre **variables categóricas**. Son uno de los encodings más fieles y fáciles de percibir\n",
    "\n",
    "Son gráficos muy versátiles, pero no siempre son adecuados. Mientras más barras se grafican, menos atención se pone en la variación entre una barra y otra, y más evidente es la distribución total. Los gráficos de barra también son muy sensibles al ordenamiento, ya que mientras más alejadas están las barras más difícil es compararlas. Por otra parte, la diferencia en el tamaño de cada barra puede codificar sólo cierta cantidad de información. Por ejemplo, si las barras son grandes en alto, una pequeña diferencia entre ellas pasará desapercibida, mientras que si las barras son pequeñas, la misma diferencia será más evidente."
   ]
  },
  {
   "cell_type": "markdown",
   "metadata": {},
   "source": [
    "Los gráficos de barra son lo más adecuados para ver, por ejemplo, la cantidad de registro por género, por provincia, incluso por nivel de estudios. Además de eso, necesitamos seleccionar una variable aleatoria con datos numéricos para poder graficar en el eje x. Tomemos por ejemplo el nivel de conformidad con el sueldo. Veamos cómo se construye uno de estos gráficos:"
   ]
  },
  {
   "cell_type": "code",
   "execution_count": 11,
   "metadata": {
    "scrolled": false
   },
   "outputs": [
    {
     "data": {
      "text/plain": [
       "<matplotlib.axes._subplots.AxesSubplot at 0x16cfa073a20>"
      ]
     },
     "execution_count": 11,
     "metadata": {},
     "output_type": "execute_result"
    },
    {
     "data": {
      "image/png": "[encoded data removed]",
      "text/plain": [
       "<Figure size 432x288 with 1 Axes>"
      ]
     },
     "metadata": {
      "needs_background": "light"
     },
     "output_type": "display_data"
    }
   ],
   "source": [
    "seaborn.barplot(data=dataset, x='Me identifico', y='Â¿QuÃ© tan conforme estÃ¡s con tu sueldo?')"
   ]
  },
  {
   "cell_type": "markdown",
   "metadata": {},
   "source": [
    "En este gráfico estamos viendo el promedio de puntaje de conformidad de cada uno de los grupos. Sin embargo, esto no es evidente a primera vista. ¿Cuál es el rango de la variable y? Como vimos anteriormente, el valor máximo que puede tomar el puntaje es de 4, si no mostramos esto, el gráfico no tiene punto de referencia.\n",
    "Otra interpretación posible sería que cada barra represente la cantidad de hombres conformes o no, ya que el usuario no tiene suficiente información para inferir el significado del eje vertical. Hay que tener en cuenta que muchas veces, **el nombre original de la columna no representa la información agregada**.\n",
    "\n",
    "Por otra parte, ¿qué significan las líneas negras? Son los intervalos de confianza, que tienen un valor por default de 95. Indica que el verdadero valor poblacional del estadístico se encuentra en ese rango, con una confianza del 95%. Por eso vemos que para los hombres, el rango es mucho más pequeño, ya que la muestra es mucho más grande. Para el grupo de \"Otros\", no tenemos certeza del valor real de la media poblacional porque la muestra es demasiado pequeña. \n",
    "\n",
    "Este estadísico suele ser difícil de interpretar para quienes no son expertos en estadística, puede ser conveniente reemplazarlo por la desviación estándar de la muestra. Si bien estamos usando la misma codificación visual (las rayitas negras), los valores que representamos son completamente distintos. Si usamos un intervalo de confianza, estamos hablando de la distribución del estimador de la media poblacional, que es una variable aleatorio que toma valores en todas las muestras posibles. Por otro lado, si usamos la desviación estándar, estamos hablando del valor del estadístico en esta muestra.\n",
    "\n",
    "Con esas observaciones, podemos contruir un gráfico más representativo."
   ]
  },
  {
   "cell_type": "code",
   "execution_count": 12,
   "metadata": {},
   "outputs": [
    {
     "data": {
      "image/png": "[encoded data removed]",
      "text/plain": [
       "<Figure size 720x432 with 1 Axes>"
      ]
     },
     "metadata": {
      "needs_background": "light"
     },
     "output_type": "display_data"
    }
   ],
   "source": [
    "plt.figure(figsize=(10,6))\n",
    "seaborn.barplot(data=dataset, x='Me identifico', y='Â¿QuÃ© tan conforme estÃ¡s con tu sueldo?',\n",
    "                color=BLUE, ci='sd')\n",
    "plt.ylabel('Nivel de satisfacción con \\n el sueldo')\n",
    "plt.xlabel('Género percibido')\n",
    "plt.ylim(0, 4)\n",
    "seaborn.despine(left=True)"
   ]
  },
  {
   "cell_type": "code",
   "execution_count": 13,
   "metadata": {},
   "outputs": [
    {
     "data": {
      "image/png": "[encoded data removed]",
      "text/plain": [
       "<Figure size 720x432 with 1 Axes>"
      ]
     },
     "metadata": {
      "needs_background": "light"
     },
     "output_type": "display_data"
    }
   ],
   "source": [
    "plt.figure(figsize=(10,6))\n",
    "seaborn.barplot(data=dataset, x='Me identifico', y='Â¿QuÃ© tan conforme estÃ¡s con tu sueldo?',\n",
    "                hue='RecibÃ­s algÃºn tipo de bono', ci='sd')\n",
    "plt.ylabel('Nivel de satisfacción con el sueldo')\n",
    "plt.xlabel('Género percibido')\n",
    "plt.ylim(0, 4)\n",
    "plt.legend(bbox_to_anchor=(1.05, 1), loc=2, borderaxespad=0.)\n",
    "seaborn.despine(left=True)"
   ]
  },
  {
   "cell_type": "markdown",
   "metadata": {},
   "source": [
    "En este gráfico, hay demasiados grupos y están demasiado juntos como para ser de utilidad. Además de ello, existe un orden intuitivo en el agrupamiento, desde No hasta \"3+ sueldos\""
   ]
  },
  {
   "cell_type": "code",
   "execution_count": 15,
   "metadata": {},
   "outputs": [
    {
     "data": {
      "text/plain": [
       "array(['Menos de un sueldo', 'Un sueldo', 'De uno a tres sueldos', 'No',\n",
       "       '3+ sueldos'], dtype=object)"
      ]
     },
     "execution_count": 15,
     "metadata": {},
     "output_type": "execute_result"
    }
   ],
   "source": [
    "dataset['RecibÃ­s algÃºn tipo de bono'].unique()"
   ]
  },
  {
   "cell_type": "code",
   "execution_count": 16,
   "metadata": {},
   "outputs": [
    {
     "data": {
      "image/png": "[encoded data removed]",
      "text/plain": [
       "<Figure size 720x432 with 1 Axes>"
      ]
     },
     "metadata": {
      "needs_background": "light"
     },
     "output_type": "display_data"
    }
   ],
   "source": [
    "plt.figure(figsize=(10,6))\n",
    "seaborn.barplot(data=dataset, x='Me identifico', y='Â¿QuÃ© tan conforme estÃ¡s con tu sueldo?',\n",
    "                hue='RecibÃ­s algÃºn tipo de bono', ci='sd', color=RED,\n",
    "                hue_order=['No', 'Menos de un sueldo', 'Un sueldo', 'De uno a tres sueldos', '3+ sueldos'])\n",
    "plt.ylabel('Nivel de satisfacción con el sueldo')\n",
    "plt.xlabel('Género percibido')\n",
    "plt.ylim(0, 4)\n",
    "plt.legend(bbox_to_anchor=(1.05, 1), loc=2, borderaxespad=0.)\n",
    "seaborn.despine(left=True)"
   ]
  },
  {
   "cell_type": "markdown",
   "metadata": {},
   "source": [
    "Dependiendo de qué queremos comparar, podemos formar los grupos de otra manera:"
   ]
  },
  {
   "cell_type": "code",
   "execution_count": 17,
   "metadata": {},
   "outputs": [
    {
     "ename": "ValueError",
     "evalue": "Could not interpret input 'Recibís algún tipo de bono'",
     "output_type": "error",
     "traceback": [
      "\u001b[1;31m---------------------------------------------------------------------------\u001b[0m",
      "\u001b[1;31mValueError\u001b[0m                                Traceback (most recent call last)",
      "\u001b[1;32m<ipython-input-17-6ce6e9f0df3d>\u001b[0m in \u001b[0;36m<module>\u001b[1;34m\u001b[0m\n\u001b[0;32m      3\u001b[0m seaborn.barplot(data=dataset, x='Recibís algún tipo de bono', y='¿Qué tan conforme estás con tu sueldo?',\n\u001b[0;32m      4\u001b[0m                 \u001b[0mhue\u001b[0m\u001b[1;33m=\u001b[0m\u001b[1;34m'Me identifico'\u001b[0m\u001b[1;33m,\u001b[0m \u001b[0mci\u001b[0m\u001b[1;33m=\u001b[0m\u001b[1;34m'sd'\u001b[0m\u001b[1;33m,\u001b[0m\u001b[1;33m\u001b[0m\u001b[1;33m\u001b[0m\u001b[0m\n\u001b[1;32m----> 5\u001b[1;33m                 \u001b[0morder\u001b[0m\u001b[1;33m=\u001b[0m\u001b[1;33m[\u001b[0m\u001b[1;34m'No'\u001b[0m\u001b[1;33m,\u001b[0m \u001b[1;34m'Menos de un sueldo'\u001b[0m\u001b[1;33m,\u001b[0m \u001b[1;34m'Un sueldo'\u001b[0m\u001b[1;33m,\u001b[0m \u001b[1;34m'De uno a tres sueldos'\u001b[0m\u001b[1;33m,\u001b[0m \u001b[1;34m'3+ sueldos'\u001b[0m\u001b[1;33m]\u001b[0m\u001b[1;33m\u001b[0m\u001b[1;33m\u001b[0m\u001b[0m\n\u001b[0m\u001b[0;32m      6\u001b[0m                )\n\u001b[0;32m      7\u001b[0m \u001b[0mplt\u001b[0m\u001b[1;33m.\u001b[0m\u001b[0mylabel\u001b[0m\u001b[1;33m(\u001b[0m\u001b[1;34m'Nivel de satisfacción con el sueldo'\u001b[0m\u001b[1;33m)\u001b[0m\u001b[1;33m\u001b[0m\u001b[1;33m\u001b[0m\u001b[0m\n",
      "\u001b[1;32m~\\Anaconda3\\lib\\site-packages\\seaborn\\categorical.py\u001b[0m in \u001b[0;36mbarplot\u001b[1;34m(x, y, hue, data, order, hue_order, estimator, ci, n_boot, units, orient, color, palette, saturation, errcolor, errwidth, capsize, dodge, ax, **kwargs)\u001b[0m\n\u001b[0;32m   3147\u001b[0m                           \u001b[0mestimator\u001b[0m\u001b[1;33m,\u001b[0m \u001b[0mci\u001b[0m\u001b[1;33m,\u001b[0m \u001b[0mn_boot\u001b[0m\u001b[1;33m,\u001b[0m \u001b[0munits\u001b[0m\u001b[1;33m,\u001b[0m\u001b[1;33m\u001b[0m\u001b[1;33m\u001b[0m\u001b[0m\n\u001b[0;32m   3148\u001b[0m                           \u001b[0morient\u001b[0m\u001b[1;33m,\u001b[0m \u001b[0mcolor\u001b[0m\u001b[1;33m,\u001b[0m \u001b[0mpalette\u001b[0m\u001b[1;33m,\u001b[0m \u001b[0msaturation\u001b[0m\u001b[1;33m,\u001b[0m\u001b[1;33m\u001b[0m\u001b[1;33m\u001b[0m\u001b[0m\n\u001b[1;32m-> 3149\u001b[1;33m                           errcolor, errwidth, capsize, dodge)\n\u001b[0m\u001b[0;32m   3150\u001b[0m \u001b[1;33m\u001b[0m\u001b[0m\n\u001b[0;32m   3151\u001b[0m     \u001b[1;32mif\u001b[0m \u001b[0max\u001b[0m \u001b[1;32mis\u001b[0m \u001b[1;32mNone\u001b[0m\u001b[1;33m:\u001b[0m\u001b[1;33m\u001b[0m\u001b[1;33m\u001b[0m\u001b[0m\n",
      "\u001b[1;32m~\\Anaconda3\\lib\\site-packages\\seaborn\\categorical.py\u001b[0m in \u001b[0;36m__init__\u001b[1;34m(self, x, y, hue, data, order, hue_order, estimator, ci, n_boot, units, orient, color, palette, saturation, errcolor, errwidth, capsize, dodge)\u001b[0m\n\u001b[0;32m   1605\u001b[0m         \u001b[1;34m\"\"\"Initialize the plotter.\"\"\"\u001b[0m\u001b[1;33m\u001b[0m\u001b[1;33m\u001b[0m\u001b[0m\n\u001b[0;32m   1606\u001b[0m         self.establish_variables(x, y, hue, data, orient,\n\u001b[1;32m-> 1607\u001b[1;33m                                  order, hue_order, units)\n\u001b[0m\u001b[0;32m   1608\u001b[0m         \u001b[0mself\u001b[0m\u001b[1;33m.\u001b[0m\u001b[0mestablish_colors\u001b[0m\u001b[1;33m(\u001b[0m\u001b[0mcolor\u001b[0m\u001b[1;33m,\u001b[0m \u001b[0mpalette\u001b[0m\u001b[1;33m,\u001b[0m \u001b[0msaturation\u001b[0m\u001b[1;33m)\u001b[0m\u001b[1;33m\u001b[0m\u001b[1;33m\u001b[0m\u001b[0m\n\u001b[0;32m   1609\u001b[0m         \u001b[0mself\u001b[0m\u001b[1;33m.\u001b[0m\u001b[0mestimate_statistic\u001b[0m\u001b[1;33m(\u001b[0m\u001b[0mestimator\u001b[0m\u001b[1;33m,\u001b[0m \u001b[0mci\u001b[0m\u001b[1;33m,\u001b[0m \u001b[0mn_boot\u001b[0m\u001b[1;33m)\u001b[0m\u001b[1;33m\u001b[0m\u001b[1;33m\u001b[0m\u001b[0m\n",
      "\u001b[1;32m~\\Anaconda3\\lib\\site-packages\\seaborn\\categorical.py\u001b[0m in \u001b[0;36mestablish_variables\u001b[1;34m(self, x, y, hue, data, orient, order, hue_order, units)\u001b[0m\n\u001b[0;32m    153\u001b[0m                 \u001b[1;32mif\u001b[0m \u001b[0misinstance\u001b[0m\u001b[1;33m(\u001b[0m\u001b[0minput\u001b[0m\u001b[1;33m,\u001b[0m \u001b[0mstring_types\u001b[0m\u001b[1;33m)\u001b[0m\u001b[1;33m:\u001b[0m\u001b[1;33m\u001b[0m\u001b[1;33m\u001b[0m\u001b[0m\n\u001b[0;32m    154\u001b[0m                     \u001b[0merr\u001b[0m \u001b[1;33m=\u001b[0m \u001b[1;34m\"Could not interpret input '{}'\"\u001b[0m\u001b[1;33m.\u001b[0m\u001b[0mformat\u001b[0m\u001b[1;33m(\u001b[0m\u001b[0minput\u001b[0m\u001b[1;33m)\u001b[0m\u001b[1;33m\u001b[0m\u001b[1;33m\u001b[0m\u001b[0m\n\u001b[1;32m--> 155\u001b[1;33m                     \u001b[1;32mraise\u001b[0m \u001b[0mValueError\u001b[0m\u001b[1;33m(\u001b[0m\u001b[0merr\u001b[0m\u001b[1;33m)\u001b[0m\u001b[1;33m\u001b[0m\u001b[1;33m\u001b[0m\u001b[0m\n\u001b[0m\u001b[0;32m    156\u001b[0m \u001b[1;33m\u001b[0m\u001b[0m\n\u001b[0;32m    157\u001b[0m             \u001b[1;31m# Figure out the plotting orientation\u001b[0m\u001b[1;33m\u001b[0m\u001b[1;33m\u001b[0m\u001b[1;33m\u001b[0m\u001b[0m\n",
      "\u001b[1;31mValueError\u001b[0m: Could not interpret input 'Recibís algún tipo de bono'"
     ]
    },
    {
     "data": {
      "text/plain": [
       "<Figure size 720x432 with 0 Axes>"
      ]
     },
     "metadata": {},
     "output_type": "display_data"
    }
   ],
   "source": [
    "plt.figure(figsize=(10,6))\n",
    "\n",
    "seaborn.barplot(data=dataset, x='Recibís algún tipo de bono', y='¿Qué tan conforme estás con tu sueldo?',\n",
    "                hue='Me identifico', ci='sd',\n",
    "                order=['No', 'Menos de un sueldo', 'Un sueldo', 'De uno a tres sueldos', '3+ sueldos']\n",
    "               )\n",
    "plt.ylabel('Nivel de satisfacción con el sueldo')\n",
    "plt.xlabel('Bono recibido')\n",
    "plt.ylim(0, 4)\n",
    "plt.xticks(rotation=45)\n",
    "plt.legend(bbox_to_anchor=(1.05, 1), loc=2, borderaxespad=0.)\n",
    "seaborn.despine(left=True)"
   ]
  },
  {
   "cell_type": "markdown",
   "metadata": {},
   "source": [
    "### Preguntas:\n",
    "\n",
    "* ¿Cuál es la principal comparación realizada en cada uno de los grupos?\n",
    "* Las personas que se identifican con género \"Otro\" y más de 3 sueldos como bono, ¿están realmente menos satisfechas?"
   ]
  },
  {
   "cell_type": "markdown",
   "metadata": {},
   "source": [
    "## Countplot\n",
    "\n",
    "Otro gráfico de barra muy útil es el que en el eje vertical tiene el conteo de la cantidad de registros en una categoría. Seaborn puede graficar esto muy fácilmente!"
   ]
  },
  {
   "cell_type": "code",
   "execution_count": null,
   "metadata": {},
   "outputs": [],
   "source": [
    "plt.figure(figsize=(10,6))\n",
    "seaborn.countplot(data=dataset, x='Me identifico')"
   ]
  },
  {
   "cell_type": "code",
   "execution_count": null,
   "metadata": {},
   "outputs": [],
   "source": [
    "plt.figure(figsize=(10,6))\n",
    "order = ['Primario', 'Secundario', 'Terciario', 'Universitario', 'Posgrado', 'Doctorado', 'Posdoctorado']\n",
    "seaborn.countplot(data=dataset, x='Nivel de estudios alcanzado', order=order)\n",
    "seaborn.despine()\n",
    "plt.xticks(rotation=45)"
   ]
  },
  {
   "cell_type": "markdown",
   "metadata": {},
   "source": [
    "## Histogramas\n",
    "\n",
    "Muestra la distribución de una variable numérica, dividiendo las variables en *bines* o estimando una función de densidad. Ojo, ¡no es lo mismo que un gráfico de barras!\n",
    "\n",
    "Por ejemplo, podemos graficar con más precisión la distribución de la variable *Salario mensual*. Pero, ¿nos conviene usar el salario bruto o el salario neto? Para esto, podemos ver qué columna tiene más respuestas:"
   ]
  },
  {
   "cell_type": "code",
   "execution_count": null,
   "metadata": {},
   "outputs": [],
   "source": [
    "plt.figure(figsize=(10,6))\n",
    "seaborn.barplot(\n",
    "    x=['Bruto', 'Neto'],\n",
    "    y=[dataset['Salario mensual BRUTO (en tu moneda local)'].count(), dataset['Salario mensual NETO (en tu moneda local)'].count()])"
   ]
  },
  {
   "cell_type": "markdown",
   "metadata": {},
   "source": [
    "Como las cantidades son muy similares, usamos Neto ya que es más intuitivo y contempla salarios en negro. Realicemos nuestro primer histograma:"
   ]
  },
  {
   "cell_type": "code",
   "execution_count": null,
   "metadata": {},
   "outputs": [],
   "source": [
    "NETO_COL = 'Salario mensual NETO (en tu moneda local)'"
   ]
  },
  {
   "cell_type": "code",
   "execution_count": null,
   "metadata": {},
   "outputs": [],
   "source": [
    "plt.figure(figsize=(10,6))\n",
    "seaborn.distplot(dataset[NETO_COL].dropna())"
   ]
  },
  {
   "cell_type": "markdown",
   "metadata": {},
   "source": [
    "### Outliers\n",
    "\n",
    "Para poder ver mejor este gráfico, tenemos que sacarle los outliers. Veamos cuántos registros tienen valores mayores a 400000"
   ]
  },
  {
   "cell_type": "code",
   "execution_count": null,
   "metadata": {},
   "outputs": [],
   "source": [
    "dataset[dataset[NETO_COL] > 400000].shape[0]"
   ]
  },
  {
   "cell_type": "markdown",
   "metadata": {},
   "source": [
    "Al ser tan pocos registros, podemos ignorarlos sin perder generalización. Otra forma de calcular los outliers es con los percentiles o dejando sólo los que se encuentran en un rango de X desviaciones estándares de la media."
   ]
  },
  {
   "cell_type": "code",
   "execution_count": null,
   "metadata": {},
   "outputs": [],
   "source": [
    "salarios = dataset[NETO_COL]\n",
    "# Eliminar filas a más de 2.5 desviaciones estándares de la media\n",
    "mask_salarios_neto = numpy.abs(salarios-salarios.mean()) <= (2.5*salarios.std())\n",
    "data = salarios[mask_salarios_neto]\n",
    "print(\"Filas removidas\", salarios.count() - data.count())\n",
    "print(\"Salario máximo considerado\", data.max())"
   ]
  },
  {
   "cell_type": "code",
   "execution_count": null,
   "metadata": {},
   "outputs": [],
   "source": [
    "plt.figure(figsize=(10,6))\n",
    "seaborn.distplot(data, bins=10)\n",
    "seaborn.despine()"
   ]
  },
  {
   "cell_type": "markdown",
   "metadata": {},
   "source": [
    "Utilizando este histograma, también vemos otra tendencia atípica, muchas personas tienen un salario cercano a 0. Podemos investigar más esa sección"
   ]
  },
  {
   "cell_type": "code",
   "execution_count": null,
   "metadata": {},
   "outputs": [],
   "source": [
    "plt.figure(figsize=(10,6))\n",
    "seaborn.distplot(data[data < 1000], bins=50)\n",
    "seaborn.despine()"
   ]
  },
  {
   "cell_type": "code",
   "execution_count": null,
   "metadata": {},
   "outputs": [],
   "source": [
    "data[data < 100][:10]"
   ]
  },
  {
   "cell_type": "markdown",
   "metadata": {},
   "source": [
    "Vemos que los valores son muy variables, y no tienen sentido en el contexto argentino. Una hipóteiss posible es que los datos fueron cargados incorrectamente, confundiendo el punto decimal con la coma para las decenas de mil. Ignoraremos los sueldos menores a 100 pesos argentinos al menos."
   ]
  },
  {
   "cell_type": "code",
   "execution_count": null,
   "metadata": {},
   "outputs": [],
   "source": [
    "def clean_salario_neto(dataset):\n",
    "    \"\"\"Returns the row with of dataset with Salario Neto values and without outliers.\"\"\"\n",
    "    salarios = dataset[NETO_COL]\n",
    "    mask_salarios_outlier = (\n",
    "        numpy.abs(salarios-salarios.mean()) <= (2.5*salarios.std())) & (salarios > 100)\n",
    "    return dataset[mask_salarios_outlier]"
   ]
  },
  {
   "cell_type": "code",
   "execution_count": null,
   "metadata": {},
   "outputs": [],
   "source": [
    "salario_neto = clean_salario_neto(dataset)\n",
    "plt.figure(figsize=(10,6))\n",
    "seaborn.distplot(salario_neto[NETO_COL], bins=20)\n",
    "plt.xticks(rotation=45)\n",
    "plt.ylabel('Densidad de probabilidad')\n",
    "seaborn.despine()"
   ]
  },
  {
   "cell_type": "code",
   "execution_count": null,
   "metadata": {},
   "outputs": [],
   "source": [
    "plt.figure(figsize=(10,6))\n",
    "seaborn.distplot(\n",
    "    salario_neto[salario_neto['Me identifico'] == 'Hombre'][NETO_COL],\n",
    "    bins=20, label='Hombre')\n",
    "seaborn.distplot(\n",
    "    salario_neto[salario_neto['Me identifico'] == 'Mujer'][NETO_COL],\n",
    "    bins=20, label='Mujer')\n",
    "plt.xticks(rotation=45)\n",
    "plt.ylabel('Densidad de probabilidad')\n",
    "plt.legend()\n",
    "seaborn.despine()"
   ]
  },
  {
   "cell_type": "markdown",
   "metadata": {},
   "source": [
    "Volveremos más adelante a analizar esta aparente diferencia de pago de acuerdo al género, cuando comparemos distribuciones."
   ]
  },
  {
   "cell_type": "markdown",
   "metadata": {},
   "source": [
    "## Gráficos de línea\n",
    "\n",
    "Es efectivo para comparar cantidades numéricas en una o varias categorías. Si lo comparamos con un gráfico de barras, tienen ventajas y desventajas. En primer lugar, sugiere una relación más fuerte entre los datos del eje horizontal, que deben ser secuenciales. Además de ello, pueden representar más valores ya que el peso visual de cada punto es mucho menor que una barra.\n",
    "\n",
    "Por otra parte, un gráfico de líneas con pocos puntos puede ser indicativo de una tendencia que no existe (o que no tenemos suficientes datos como para mostrarla)."
   ]
  },
  {
   "cell_type": "code",
   "execution_count": null,
   "metadata": {},
   "outputs": [],
   "source": [
    "plt.figure(figsize=(10,6))\n",
    "seaborn.lineplot(data=dataset,\n",
    "                  x='Tengo', y=NETO_COL,\n",
    "                  hue='Me identifico')\n",
    "plt.xticks(rotation=45);"
   ]
  },
  {
   "cell_type": "markdown",
   "metadata": {},
   "source": [
    "Claramente, hay muchas cosas para mejorar en este gráfico. En principio, ordenar los intervalos del eje x, sacar los outliers nuevamente, utilizar la desviación estándar como intervalo de confianza.\n",
    "\n",
    "También se pueden eliminar los grupos con pocos valores. Sin embargo, esto debe ser considerado de acuerdo al caso. Por ejemplo, ¿es conveniente sacar el grupo donde la variable \"Me identifico\" toma el valor de \"Otro\", a pesar de tener pocos registros?"
   ]
  },
  {
   "cell_type": "code",
   "execution_count": null,
   "metadata": {},
   "outputs": [],
   "source": [
    "dataset.groupby('Me identifico').size()"
   ]
  },
  {
   "cell_type": "markdown",
   "metadata": {},
   "source": [
    "Comencemos por el eje x. Primero que nada, tenemos que remover la fila con los outliers. Como consideramos estos valores de 99, 200 y 1111 errores, podemos borrarlos directamente del conjunto de datos."
   ]
  },
  {
   "cell_type": "code",
   "execution_count": null,
   "metadata": {},
   "outputs": [],
   "source": [
    "age_mask = dataset.Tengo < 90\n",
    "dataset[~age_mask] = numpy.nan"
   ]
  },
  {
   "cell_type": "code",
   "execution_count": null,
   "metadata": {},
   "outputs": [],
   "source": [
    "seaborn.distplot(dataset['Tengo'].dropna())"
   ]
  },
  {
   "cell_type": "markdown",
   "metadata": {},
   "source": [
    "Veamos cómo queda ahora"
   ]
  },
  {
   "cell_type": "code",
   "execution_count": null,
   "metadata": {},
   "outputs": [],
   "source": [
    "plt.figure(figsize=(10,6))\n",
    "seaborn.lineplot(data=clean_salario_neto(dataset),\n",
    "                  x='Tengo', y=NETO_COL,\n",
    "                  hue='Me identifico', ci='sd')\n",
    "plt.ylabel('Salario neto mensual')\n",
    "plt.xlabel('Edad')\n",
    "plt.xticks(rotation=45)\n",
    "plt.legend(bbox_to_anchor=(1.05, 1), loc=2, borderaxespad=0.)\n",
    "seaborn.despine()"
   ]
  },
  {
   "cell_type": "markdown",
   "metadata": {},
   "source": [
    "Aún así, vemos que no hay suficientes puntos en la recta para crear curvas suaves y es difícil ver la tendencia. Una opción en estos casos es agregar los datos en categorías más grandes, tratando de generar un nivel más alto de abstracción que pueda esclarecer patrones.\n",
    "\n",
    "Para la edad en particular, podemos crear rangos etareos de 5 años. También es conveniente poner un valor máximo y mínimo a partir del cual agrupar los valores ya que la distribución puede tener largas colas. En este caso, sólo sería necesario el valor superior, para agrupar personas, por ejemplo, mayores de 50 años. La función de pandas `cut` sirve para este tipo de situaciones."
   ]
  },
  {
   "cell_type": "code",
   "execution_count": null,
   "metadata": {},
   "outputs": [],
   "source": [
    "def to_categorical(column, bin_size=5, min_cut=15, max_cut=50):\n",
    "    if min_cut is None:\n",
    "        min_cut = int(round(column.min())) - 1\n",
    "    value_max = int(numpy.ceil(column.max()))\n",
    "    max_cut = min(max_cut, value_max)\n",
    "    intervals = [(x, x+bin_size) for x in range(min_cut, max_cut, bin_size)]\n",
    "    if max_cut != value_max:\n",
    "        intervals.append((max_cut, value_max))\n",
    "    return pandas.cut(column, pandas.IntervalIndex.from_tuples(intervals))"
   ]
  },
  {
   "cell_type": "code",
   "execution_count": null,
   "metadata": {},
   "outputs": [],
   "source": [
    "seaborn.countplot(to_categorical(dataset.Tengo.dropna()), color=BLUE)\n",
    "plt.xticks(rotation=45)"
   ]
  },
  {
   "cell_type": "code",
   "execution_count": null,
   "metadata": {},
   "outputs": [],
   "source": [
    "plt.figure(figsize=(10,8))\n",
    "age_data = clean_salario_neto(dataset)\n",
    "age_data = age_data[~age_data.Tengo.isnull()]\n",
    "age_data['Edad (intervalos)'] = to_categorical(age_data.Tengo)\n",
    "seaborn.pointplot(data=age_data,\n",
    "                  x='Edad (intervalos)', y=NETO_COL,\n",
    "                  hue='Me identifico', dodge=True, ci='sd',\n",
    "                  markers='v', linestyles='--', errwidth=1, capsize=0.2)\n",
    "plt.ylabel('Salario neto mensual')\n",
    "plt.xlabel('Edad')\n",
    "plt.xticks(rotation=45)\n",
    "plt.legend(bbox_to_anchor=(1.05, 1), loc=2, borderaxespad=0.)\n",
    "seaborn.despine()"
   ]
  },
  {
   "cell_type": "markdown",
   "metadata": {},
   "source": [
    "## Gráficos de caja\n",
    "\n",
    "Muestra la distribución de una variable numérica, de una forma más condensada que un histograma. Son muy útiles para comparar muchas distribuciones, pero sólo cuando son muy distintas entre ellas, ya que oscurecen algunas sutilezas. Otros problema de este tipo de gráficos en que no todo el mundo recuerda cómo leerlos.\n",
    "\n",
    "Por ejemplo, volvamos al ejemplo anterior para comparar la distrubción etarea con el salario neto. Con un gráfico de caja, se vería de la siguiente manera:"
   ]
  },
  {
   "cell_type": "code",
   "execution_count": null,
   "metadata": {},
   "outputs": [],
   "source": [
    "plt.figure(figsize=(10,6))\n",
    "seaborn.boxplot(data=age_data,\n",
    "                x='Edad (intervalos)', y=NETO_COL,\n",
    "                color=BLUE)\n",
    "plt.ylabel('Salario neto mensual')\n",
    "plt.xlabel('Edad')\n",
    "plt.xticks(rotation=45)\n",
    "seaborn.despine()"
   ]
  },
  {
   "cell_type": "markdown",
   "metadata": {},
   "source": [
    "Este tipo de gráfico permite ver con más detalles que, a pesar de que los centros de las distribuciones parezcan seguir una progresión lineal ascendente, los puntos más bajos se mantienen en el mismo rango. Adicionalmente, los valores más altos se encuentran en las edades medias, probablemente debido a la baja cantidad de personas en los grupos etareos más altos.\n",
    "\n",
    "Con los boxplot también podemos comparar distribuciones por grupos. En este caso, si un grupo tiene una población muy reducida, su influencia visual es mucho menor ya que se traducen a cajas pequeñas o incluso sólo puntos."
   ]
  },
  {
   "cell_type": "code",
   "execution_count": null,
   "metadata": {},
   "outputs": [],
   "source": [
    "plt.figure(figsize=(10,6))\n",
    "seaborn.boxplot(data=age_data,\n",
    "                x='Edad (intervalos)', y=NETO_COL,\n",
    "                hue='Me identifico')\n",
    "plt.ylabel('Salario neto mensual')\n",
    "plt.xlabel('Edad')\n",
    "plt.xticks(rotation=45)\n",
    "seaborn.despine()"
   ]
  },
  {
   "cell_type": "markdown",
   "metadata": {},
   "source": [
    "En este gráfico podemos ver, por ejemplo, todos los outliers con sueldos mayores a 100,000, que en el otro gráfico se agrupaban dentro de la barra de desviación estándar."
   ]
  },
  {
   "cell_type": "markdown",
   "metadata": {},
   "source": [
    "## Gráficos de puntos (scatterplot)\n",
    "\n",
    "Muestra la relación entre 2 o 3 variables numéricas continuas. Adicionalmente, se puede usar el color y la forma de los puntos para variables categóricas, y el tamaño para variables numéricas.\n",
    "\n",
    "Para poder ejemplificar el gráfico de puntos, debemos encontrar dos variables numéricas continuas. Tener en cuenta que por más que una variable sea discreta, al incluirla en un scatter plot la estamos tratando como una variable continua.\n",
    "\n",
    "En el dataset que estamos analizando, podríamos tratar de encontrar la respuesta a \"Los aumentos para los empleados, ¿son más grandes mientras menos cobran, o son proporcionales a los ingresos?\""
   ]
  },
  {
   "cell_type": "markdown",
   "metadata": {},
   "source": [
    "Antes de poder explorar la relación entre las variables, debemos ver la distribución de cada una de ellas para detectar anomalías. Ya sabemos que el Salario mensual tiene algunos outliers, así que podemos sacarlos. Las otras columnas relacionadas a este problema son *¿Tuviste ajustes por inflación en 2017?* y *¿De qué % fue el ajuste?*"
   ]
  },
  {
   "cell_type": "code",
   "execution_count": null,
   "metadata": {},
   "outputs": [],
   "source": [
    "data_ajustes = clean_salario_neto(dataset)[\n",
    "    [NETO_COL, 'Â¿Tuviste ajustes por inflaciÃ³n en 2018?',\n",
    "     'Â¿De quÃ© % fue el ajuste?', 'Me identifico']\n",
    "]\n",
    "data_ajustes[:10]"
   ]
  },
  {
   "cell_type": "code",
   "execution_count": null,
   "metadata": {},
   "outputs": [],
   "source": [
    "seaborn.distplot(data_ajustes['Â¿De quÃ© % fue el ajuste?'].dropna(), bins=10)\n",
    "seaborn.despine()"
   ]
  },
  {
   "cell_type": "markdown",
   "metadata": {},
   "source": [
    "El procentaje de ajuste no tiene outliers, pero tiene una concentración anormal en el valor 0. Podemos dividir esta distribución en dos partes: si recibió aumento o si no, y tratar de buscar las correlaciones por separado. \n",
    "\n",
    "Un **histograma de varias variables** es muy útil para esto, ya que nos permite comparar dos distribuciones en el mismo gráfico."
   ]
  },
  {
   "cell_type": "code",
   "execution_count": null,
   "metadata": {},
   "outputs": [],
   "source": [
    "con_aumento = data_ajustes['Â¿Tuviste ajustes por inflaciÃ³n en 2018?'] != 'No'\n",
    "sin_aumento = data_ajustes['Â¿Tuviste ajustes por inflaciÃ³n en 2018?'] == 'No'\n",
    "plt.figure(figsize=(10,6))\n",
    "seaborn.distplot(data_ajustes[con_aumento][NETO_COL].dropna(), color=GREEN, label='Con aumento')\n",
    "seaborn.distplot(data_ajustes[sin_aumento][NETO_COL].dropna(), color=RED, label='Sin aumento')\n",
    "plt.legend()\n",
    "seaborn.despine()"
   ]
  },
  {
   "cell_type": "markdown",
   "metadata": {},
   "source": [
    "Podemos ver que, efectivamente, las distribuciones de salario parecen ser distintas, y que a las personas con salarios menores se les otorgan menos ajustes. \n",
    "\n",
    "Tomemos ahora sólo el caso de la población que recibió el ajuste"
   ]
  },
  {
   "cell_type": "code",
   "execution_count": null,
   "metadata": {},
   "outputs": [],
   "source": [
    "plt.figure(figsize=(10,6))\n",
    "seaborn.scatterplot(data=data_ajustes[con_aumento],\n",
    "                    x=NETO_COL,\n",
    "                    y='Â¿De quÃ© % fue el ajuste?')"
   ]
  },
  {
   "cell_type": "markdown",
   "metadata": {},
   "source": [
    "El gráfico del scatterplot no muestra ninguna tendencia. Podemos utilizar seaborn para estimar una regresión lineal con los datos, utilizando el gráfico *regplot*. También intentaremos limpiar visualmente el gráfico."
   ]
  },
  {
   "cell_type": "code",
   "execution_count": null,
   "metadata": {},
   "outputs": [],
   "source": [
    "plt.figure(figsize=(10,6))\n",
    "seaborn.regplot(data=data_ajustes[con_aumento],\n",
    "                x=NETO_COL, y='Â¿De quÃ© % fue el ajuste?',\n",
    "                marker='+')\n",
    "plt.xticks(rotation=45)\n",
    "seaborn.despine()"
   ]
  },
  {
   "cell_type": "markdown",
   "metadata": {},
   "source": [
    "La regresión linear estimada parece indicar que no existe correlación fuerte entre las variables. Sin embargo, existen maneras más efectivas de medir correlación, gráficas y analíticas, que veremos más adelante."
   ]
  },
  {
   "cell_type": "markdown",
   "metadata": {},
   "source": [
    "## Gráficos QQ\n",
    "\n",
    "Otra forma de comparar visualmente dos variables es un gráfico QQ, que muestra dos distribuciones de probabilidad juntas graficando sus cuantiles. Cada la coordenada x de cada punto correponde al cuartil de la segunda distribución, y la coordenada y el mismo cuartil de la primera distribución. Si los cuartiles forman la recta indetidad, entonces ambas distribuciones son iguales.\n",
    "\n",
    "Otras interpretaciones también son posibles: si ambas distribuciones están relacionadas linearmente, entonces los puntos del gráfico QQ estarán alineados, aunque no necesariamente en la dirección de la identidad. En este caso, si la tendencia del gráfico está por debajo de la identidad (es decir, tiene menor pendiente), la segunda distribución (la del eje x) es más dispersa que la primera. \n",
    "\n",
    "Por otro lado, se podría observar una forma curva o en forma de S. **¿Qué interpretación se podría dar a estas formas?**\n",
    "\n",
    "Este es un tipo de gráfico poco estándar, por lo que es recomendable para audiencias más experimentadas. Permite ver más información que un histograma, pero no muestra medidas de tendencia central."
   ]
  },
  {
   "cell_type": "markdown",
   "metadata": {},
   "source": [
    "### Ejemplo\n",
    "Usaremos un gráfico QQ para **comparar la distribución de los salarios contra a una distribución normal**. Pero para ello, primero tenemos que saber qué normal, porque seguro que no es la normal estandarizada. Recordemos que los parámetros de la función normal son la media y la desviación estándar muestral, o *loc* y *scale* según scipy."
   ]
  },
  {
   "cell_type": "code",
   "execution_count": null,
   "metadata": {},
   "outputs": [],
   "source": [
    "from scipy import stats\n",
    "\n",
    "# Estimamos los parámetros muestrales. Si bien son sólo la media y desviación estándar, podemos\n",
    "# usar scipy para estimar (fit) cualquier distribución.\n",
    "loc, scale = stats.norm.fit(salario_neto['Salario mensual NETO (en tu moneda local)'])\n",
    "loc, scale"
   ]
  },
  {
   "cell_type": "markdown",
   "metadata": {},
   "source": [
    "Ahora podemos crear una nueva distribución normal con estos parámetros"
   ]
  },
  {
   "cell_type": "code",
   "execution_count": null,
   "metadata": {},
   "outputs": [],
   "source": [
    "norm_dist = stats.norm(loc, scale)\n",
    "# Generamos una muestra\n",
    "sample = norm_dist.rvs(1000)\n",
    "# La graficamos\n",
    "seaborn.distplot(sample, label='Distribución normal')\n",
    "seaborn.distplot(salario_neto['Salario mensual NETO (en tu moneda local)'], label='Salarios mensuales')\n",
    "plt.legend(bbox_to_anchor=(1.05, 1), loc=2, borderaxespad=0.)\n",
    "seaborn.despine()"
   ]
  },
  {
   "cell_type": "markdown",
   "metadata": {},
   "source": [
    "Ahora podemos armar el gráfico QQ. Usamos dos muestras del mismo tamaño, y calculamos los cuartiles."
   ]
  },
  {
   "cell_type": "code",
   "execution_count": null,
   "metadata": {},
   "outputs": [],
   "source": [
    "percs = numpy.linspace(0,100,21)  # Creamos 20 puntos cuartiles igualmente distribuidos entre 0 y 100.\n",
    "qn_sample = numpy.percentile(salario_neto_norm, percs)\n",
    "qn_norm_dist = numpy.percentile(norm_dist.rvs(salario_neto_norm.shape[0]), percs)"
   ]
  },
  {
   "cell_type": "code",
   "execution_count": null,
   "metadata": {},
   "outputs": [],
   "source": [
    "plt.figure(figsize=(12,6))\n",
    "seaborn.regplot(x=qn_sample, y=qn_norm_dist)\n",
    "plt.xlabel('Cuartiles de la muestra de salarios netos por mes')\n",
    "plt.ylabel('Cuartiles de la distribución normal estimada')\n",
    "plt.title('Gráfico QQ de la distribución de salarios mensuales y una distribución normal')\n",
    "\n",
    "x = numpy.linspace(numpy.min((qn_men.min(),qn_women.min())), numpy.max((qn_men.max(),qn_women.max())))\n",
    "plt.plot(x,x, color=RED, ls=\"--\")\n",
    "\n",
    "seaborn.despine()"
   ]
  },
  {
   "cell_type": "markdown",
   "metadata": {},
   "source": [
    "Por otra parte, también podemos usar el gráfico QQ para **comparar la distribución de salarios entre hombre y mujeres**. Si la diferencia en los histogramas se debe sólo a que la muestra de mujeres es más pequeña, entonces las distribuciones subyacentes deberían ser iguales. Por otro lado, si las distribuciones son distintas es probable que existan otros factores aparte de la cantidad que llevan a que mujeres cobren menos dinero."
   ]
  },
  {
   "cell_type": "code",
   "execution_count": null,
   "metadata": {},
   "outputs": [],
   "source": [
    "percs = numpy.linspace(0,100,21)  # Creamos 20 puntos cuartiles igualmente distribuidos entre 0 y 100.\n",
    "salarios_men = salario_neto[salario_neto['Me identifico'] == 'Hombre'][NETO_COL]\n",
    "salarios_women = salario_neto[salario_neto['Me identifico'] == 'Mujer'][NETO_COL]\n",
    "qn_men = numpy.percentile(salarios_men, percs)\n",
    "qn_women = numpy.percentile(salarios_women, percs)"
   ]
  },
  {
   "cell_type": "code",
   "execution_count": null,
   "metadata": {},
   "outputs": [],
   "source": [
    "plt.figure(figsize=(12,6))\n",
    "seaborn.regplot(x=qn_men, y=qn_women)\n",
    "plt.xlabel('Cuartiles de salarios netos en hombres')\n",
    "plt.ylabel('Cuartiles de salarios netos en mujeres')\n",
    "\n",
    "# Graficamos la linea de la identidad.\n",
    "x = numpy.linspace(numpy.min((qn_men.min(),qn_women.min())), numpy.max((qn_men.max(),qn_women.max())))\n",
    "plt.plot(x,x, color=RED, ls=\"--\")\n",
    "\n",
    "seaborn.despine()"
   ]
  },
  {
   "cell_type": "markdown",
   "metadata": {},
   "source": [
    "Este gráfico nos indica que hay una correlación lineal entre ambas distribuciones, pero que no son iguales."
   ]
  },
  {
   "cell_type": "markdown",
   "metadata": {},
   "source": [
    "# Clase II: Correlación y gráficos avanzados\n",
    "\n",
    "Previamente vimos los tipos de gráficos más simples, que utilizan encoding visuales comunes. Sin embargo, podemos componer esos encodings visuales para representar más variables dentro de un mismo gráfico. Sin embargo, mientras más información estemos codificando, más compleja se vuelve nuestra visualización y necesitamos herramientas más poderosas."
   ]
  },
  {
   "cell_type": "markdown",
   "metadata": {},
   "source": [
    "## Heatmaps"
   ]
  },
  {
   "cell_type": "markdown",
   "metadata": {},
   "source": [
    "Los heatmaps se utilizan para codificar la relación entre dos variables categóricas o discretas (o discretizadas!). Lo importante es que si al menos una de las variables es discreta, ya no podemos utilizar otro tipo de gráficos como `regplot` o `pairplot`. \n",
    "\n",
    "Por ejemplo, una pregunta posible podría ser **¿Qué tipo de trabajo tienen los programadores más satisfechos con su trabajo?**. Para responder esto, debemos analizar las variables relacionadas al tipo de contrato y a la satisfacción con el sueldo (que ya estuvimos viendo previamente)."
   ]
  },
  {
   "cell_type": "code",
   "execution_count": null,
   "metadata": {},
   "outputs": [],
   "source": [
    "dataset['Tipo de contrato'].isnull().sum(axis=0)"
   ]
  },
  {
   "cell_type": "code",
   "execution_count": null,
   "metadata": {},
   "outputs": [],
   "source": [
    "dataset['Tipo de contrato'].unique()"
   ]
  },
  {
   "cell_type": "code",
   "execution_count": null,
   "metadata": {},
   "outputs": [],
   "source": [
    "dataset['Contrato'] = dataset['Tipo de contrato'].replace({\n",
    "    'Remoto (empresa de otro país)': 'Remoto',\n",
    "    'Tercerizado (trabajo a través de consultora o agencia)': 'Tercerizado'})"
   ]
  },
  {
   "cell_type": "code",
   "execution_count": null,
   "metadata": {},
   "outputs": [],
   "source": [
    "seaborn.countplot(dataset.Contrato, color=RED)\n",
    "plt.xticks(rotation=45)\n",
    "seaborn.despine()"
   ]
  },
  {
   "cell_type": "code",
   "execution_count": null,
   "metadata": {},
   "outputs": [],
   "source": [
    "CONFORME_COL = '¿Qué tan conforme estás con tu sueldo?'"
   ]
  },
  {
   "cell_type": "code",
   "execution_count": null,
   "metadata": {},
   "outputs": [],
   "source": [
    "seaborn.countplot(dataset[CONFORME_COL], color=BLUE)\n",
    "seaborn.despine()"
   ]
  },
  {
   "cell_type": "markdown",
   "metadata": {},
   "source": [
    "En este tipo de situaciones con pocas categorías es ideal usar un heatmap. Sin embargo, no es tan intuitivo de hacer porque tenemos que pasar como argumento la matriz de co-ocurrencias ya previamente armada. Les recomendamos leer cómo funciona el comando pivot para entender cómo funciona el siguiente código, aunque existen otras formas como ´crosstab´"
   ]
  },
  {
   "cell_type": "code",
   "execution_count": null,
   "metadata": {},
   "outputs": [],
   "source": [
    "exp = dataset[['Contrato', CONFORME_COL]]\n",
    "exp = exp.pivot_table(index='Contrato', columns=CONFORME_COL, aggfunc=len, fill_value=0)\n",
    "seaborn.heatmap(exp)"
   ]
  },
  {
   "cell_type": "markdown",
   "metadata": {},
   "source": [
    "Este gráfico es tan poco informativo porque todas la masa de probabilidad está siendo absorvida por los eventos con mayor probabilidad marginal: fulltime y un puntaje de 3.0 o 2.0. ¿Hay tantas de estas combinaciones porque siempre ocurren juntas, o sólo porque son los elementos más frecuentes?"
   ]
  },
  {
   "cell_type": "markdown",
   "metadata": {},
   "source": [
    "## Test de independencia\n",
    "\n",
    "Cuando no podemos corroborar una correlación visualmente, podemos realizar un análisis a través de test de independencia. A continuación, utilizaremos el test chi-cuadrado. Este test compara dos variables categoricas y la única restricción que pone es que todas las categorías tengan al menos 5 elementos.\n",
    "\n",
    "Es test chi-cuadrado computa el estadístico chi-cuadrado y el p valor para la hipótesis de que las observaciones presentadas en la tabla de contingencia (co-ocurrencias) provienen de distribuciones independiente (hipótesis nula, o lo que queremos rechazar). No entraremos en detalles sobre el significado del estadístico, pero sí podemos decir que el p-valor es la probabilidad de que, si la hipótesis nula es cierta (son independientes) el valor del estadístico sea mayor o igual que el que obtuvimos (se rechaze la hipótesis nula). En fórmula:\n",
    "\n",
    "p-valor = P (Hipótesis nula se rechaza|Hipótesis nula es cierta) \n",
    "\n",
    "Este tests y muchos otros están implementados en la librería scipy."
   ]
  },
  {
   "cell_type": "code",
   "execution_count": null,
   "metadata": {},
   "outputs": [],
   "source": [
    "from scipy import stats"
   ]
  },
  {
   "cell_type": "code",
   "execution_count": null,
   "metadata": {},
   "outputs": [],
   "source": [
    "# Usamos la misma tabla que para el heatmap!\n",
    "chi2, p, dots, expected = stats.chi2_contingency(exp)"
   ]
  },
  {
   "cell_type": "code",
   "execution_count": null,
   "metadata": {
    "scrolled": true
   },
   "outputs": [],
   "source": [
    "chi2, p"
   ]
  },
  {
   "cell_type": "markdown",
   "metadata": {},
   "source": [
    "El p-valor es bastante pequeño, lo que significa que si las variables son independientes, entonces en muy poco probable que el test se equivoque y nos haga decir que son depedientes.\n",
    "\n",
    "LO CUAL NO QUIERE DECIR QUE TENGAMOS EVIDENCIA SEGURA PARA AFIRMAR QUE SON DEPENDIENTES (la hipótesis alternativa es cierta), solamente estamos hablando de la seguridad que tiene el test de que hizo un buen trabajo. Podría suceder que la hipótesis nula sea cierta (son independientes) y que el test todavía asegura que la hipótesis nula es falsa, pero esto ocurre sólo con una probablidad p.\n",
    "\n",
    "Pongamoslo en números. Supongamos que tengo 1000 muestras con la misma distribución (o sea, realizo este análisis sobre otros 1000 conjuntos de datos). Si el p-valor es de 0.05, entonces significa que en 50 experimentos voy a decir que las variables no son independientes (rechazar la hipótesis nula) cuando en realidad no lo son (porque la hipótesis nula era falsa). Es decir, en 50 experimentos voy a decir que la satisfacción con el sueldo sí se correlaciona con el tipo de contrato que tenés, cuando en realidad no tienen nada que ver.\n",
    "\n",
    "El p-valor nos permite tomar una decisión dada una probabilidad del error del test, pero tenemos que tener presentes que nunca estimamos ¿cuál es la probabilidad de que digamos que las variables son dependientes (hipótesis alternativa) y que en realidad son dependientes (la hipótesis nula sea verdadera)? Esto se traduciría a: tu jefe quiere saber si con poner todos los empleados en blanco, estos se van a sentir más contentos con su sueldo aunque no les aumente un peso de bolsillo. Vos le decís que está sí, que las dos variables efectivamente están correlacionadas, pero resulta que son independientes, y tu jefe ahora tiene un plantel de empleados permanentes que siguen igual de insatisfechos. ¿Cuál es la probabilidad de que eso suceda?\n",
    "\n",
    "Depende de qué tan probable sea tu hipótesis alternativa (de que sí existe una relación). Supongamos que es muy poco probable que exista una relación entre estas dos variables: la gente está satisfecha con su sueldo solamente si le pagan bien y no le importa estar en negro. En este caso, la hipótesis nula es muy probable (porque la alternativa no lo es), y podés saber que en la gran mayoría de los casos, tenés muy baja probabilidad de errarle.\n",
    "\n",
    "Pero si tu hipótesis alternativa era muy probable, o sea que a la gente no le gusta estar en negro y que se siente poco satisfecha con su sueldo por eso, entonces quiere decir que en la mayoría de las veces, tu hipótesis nula va a ser falsa, y no tenés idea de con cuanta probabilidad el test se está equivocando. En esos casos, el p-valor no aporta ninguna información, porque sólo habla de cuando la hipótesis nula es cierta. \n",
    "\n",
    "Para repasarlo con más detalle: https://www.youtube.com/watch?v=eesUdFlYMh8\n",
    "\n",
    "Disclaimer: para ejemplificar mejor, algunas veces tomo \"correlación\" con un sentido de \"causalidad\", pero sólo para quede un poco más entretenido."
   ]
  },
  {
   "cell_type": "markdown",
   "metadata": {},
   "source": [
    "## Jointplots"
   ]
  },
  {
   "cell_type": "markdown",
   "metadata": {},
   "source": [
    "En caso de que querramos estimar la correlación entre variables que sean numéricas, también se puede usar el *seaborn.jointplot*, pero no siempre logra un resultado interpretable.\n",
    "\n",
    "Volvamos al ejemplo del porcentaje de aumento con respecto al sueldo neto. Haremos un jointplot con *kind=ked* y *kind=hex*. Con ambos gráficos podemos ver mejor las distribuciones que con el regplot, ya que los puntos individuales son agregados en una función de calor. Sin embargo, sucede lo mismo que con los heatmaps: no podemos asegurar que la concentración de valores conjuntos no sea sólo producto de los valores más frecuentes de cada distribución independiente."
   ]
  },
  {
   "cell_type": "code",
   "execution_count": null,
   "metadata": {},
   "outputs": [],
   "source": [
    "plt.figure(figsize=(10,6))\n",
    "seaborn.jointplot(data=data_ajustes[con_aumento],\n",
    "                  x=NETO_COL, y='¿De qué % fue el ajuste?', kind='kde')"
   ]
  },
  {
   "cell_type": "code",
   "execution_count": null,
   "metadata": {},
   "outputs": [],
   "source": [
    "plt.figure(figsize=(10,6))\n",
    "seaborn.jointplot(data=data_ajustes[con_aumento],\n",
    "                  x=NETO_COL, y='¿De qué % fue el ajuste?', kind='hex')"
   ]
  },
  {
   "cell_type": "markdown",
   "metadata": {},
   "source": [
    "Finalmente, si los valores son numéricos **y continuos**, antes de utilizar un mapa de calor se debe \"categorizar\" los valores, es decir, dividirlos en intervalos. Para esto se puede usar la función de pandas `cut`"
   ]
  },
  {
   "cell_type": "markdown",
   "metadata": {},
   "source": [
    "## Pairplots\n",
    "\n",
    "Los pairplots son muy útiles para comparar muchas variables numéricas al mismo tiempo. Por ejemplo, se puede hacer una comparación entre el porcentaje de aumento, los valores del sueldo el neto y los *Años de experiencia*"
   ]
  },
  {
   "cell_type": "code",
   "execution_count": null,
   "metadata": {},
   "outputs": [],
   "source": [
    "plot_data = clean_salario_neto(\n",
    "    dataset[con_aumento & age_mask & (dataset['Años en la empresa actual'] < 40) & (dataset['Años de experiencia'] < 40)])\n",
    "plot_data = plot_data.rename(columns={\n",
    "    'Años en la empresa actual': 'Antiguedad', 'Años de experiencia': 'Experiencia',\n",
    "    NETO_COL: 'Salario', '¿De qué % fue el ajuste?': 'Ajuste'\n",
    "})\n",
    "seaborn.pairplot(\n",
    "    data=plot_data,\n",
    "    vars=['Salario', 'Ajuste', 'Experiencia', 'Antiguedad'],\n",
    "    hue='Me identifico', \n",
    "    markers='+')"
   ]
  },
  {
   "cell_type": "markdown",
   "metadata": {},
   "source": [
    "Si bien este tipo de gráfico resume mucha información y nos permite buscar patrones visuales con gran rapidez, por eso mismo es difícil de explicar y lleva unos minutos de leer completamente. Por ello, es recomendable para medios gráficos como informes técnicos, pero no para presentaciones o piezas de divulgación."
   ]
  },
  {
   "cell_type": "markdown",
   "metadata": {},
   "source": [
    "## Combinaciones con cat plot\n",
    "\n",
    "Uno de los aspectos más poderosos de seaborn es la habilidad de combinar distintos gráficos en filas y columnas con pocas líneas de código, a diferencia de otras librerías como matplotlib. La función `catplot` o `factoplot` en versiones anteriores permite usar los siguienetes parámetros:\n",
    "* Eje x e y para variables numéricas y/o categóricas, cada combinación con un gráfico distinto.\n",
    "* Hue, o distinción por grupos por color.\n",
    "* Filas y columnas para variables categóricas.\n",
    "\n",
    "Al tener tantas posibilidades de combinaciones, se debe elegir con cuidado la jerarquía de los elementos gráficos de acuerdo a las comparaciones más importantes a realizar.\n",
    "\n",
    "Este tipo de gráfico es útil, al igual que el `pairplot` sirve mucho para la exploración, pero no tanto para la presentación de datos.\n",
    "\n",
    "Por ejemplo, ¿por qué hay tan pocas mujeres programadoras con pos doc en Córdoba, comparado con la cantidad de hombres y la distribución general en el resto del país?"
   ]
  },
  {
   "cell_type": "code",
   "execution_count": null,
   "metadata": {},
   "outputs": [],
   "source": [
    "catplot_data = plot_data  # Dataset half clean\n",
    "catplot_data.loc[:,'Nivel de estudios alcanzado'] = catplot_data['Nivel de estudios alcanzado'].replace(\n",
    "{'Doctorado': 'Posgrado', 'Posdoctorado': 'Posgrado'})\n",
    "catplot_data = catplot_data[catplot_data['Nivel de estudios alcanzado'] != 'Primaria']\n",
    "\n",
    "catplot_data['Lugar'] = catplot_data['Dónde estás trabajando'].apply(lambda x: 'Argentina' if x != 'Córdoba' else x)\n",
    "\n",
    "order = ['Secundario', 'Terciario', 'Universitario', 'Posgrado']\n",
    "g = seaborn.catplot(\n",
    "    data=catplot_data, x='Nivel de estudios alcanzado', y='Salario', order=order,\n",
    "    row='Me identifico', col='Lugar',\n",
    "    kind='box',\n",
    "    aspect=1.8)"
   ]
  },
  {
   "cell_type": "code",
   "execution_count": null,
   "metadata": {},
   "outputs": [],
   "source": []
  }
 ],
 "metadata": {
  "kernelspec": {
   "display_name": "Python 3",
   "language": "python",
   "name": "python3"
  },
  "language_info": {
   "codemirror_mode": {
    "name": "ipython",
    "version": 3
   },
   "file_extension": ".py",
   "mimetype": "text/x-python",
   "name": "python",
   "nbconvert_exporter": "python",
   "pygments_lexer": "ipython3",
   "version": "3.6.8"
  }
 },
 "nbformat": 4,
 "nbformat_minor": 2
}
