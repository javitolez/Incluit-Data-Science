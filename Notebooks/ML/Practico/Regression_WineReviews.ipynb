{
 "cells": [
  {
   "cell_type": "markdown",
   "metadata": {},
   "source": [
    "# INCLUIT - Ejercicios de Regresión\n",
    "\n",
    "### Junio 2019\n",
    "\n"
   ]
  },
  {
   "cell_type": "markdown",
   "metadata": {},
   "source": [
    "# Descripción\n",
    "\n",
    "El objetivo de este notebook es ejercitar las distintas técnicas de regresión sobre un conjunto de datos referido a revisiones de vinos. Vamos a ejercitar los algoritmos de regresión lineal (usando ajustes por cuadrados mínimos), KNN y decission tree. La ejercitación está destinada a la predicción de alguna/s instancia/s de algunos atributos del dataset.\n",
    "\n",
    "**Link a dataset:** https://www.kaggle.com/zynicide/wine-reviews\n",
    "\n",
    "**Ejemplos asociados:** Dado que es un dataset popular, se puede encontrar una gran variedad de kernels disponibles para sacar ideas y corroborar otras: https://www.kaggle.com/zynicide/wine-reviews/kernels\n",
    "\n",
    "Como guía, se listan algunos de los comandos  a utilizar:\n",
    "\n",
    "- `from sklearn.linear_model import LinearRegression`\n",
    "- `from sklearn.tree import DecisionTreeRegressor`\n",
    "- `from sklearn.neighbors import KNeighborsRegressor`\n",
    "\n",
    "\n",
    "# Material de ayuda: \n",
    "\n",
    "Las diapositivas vistas en clases, los notebook de Acámicas y los siguientes link:\n",
    "\n",
    "- http://www.aprendemachinelearning.com/clasificar-con-k-nearest-neighbor-ejemplo-en-python/\n",
    "- http://www.aprendemachinelearning.com/arbol-de-decision-en-python-clasificacion-y-prediccion/\n",
    "- http://www.aprendemachinelearning.com/regresion-lineal-en-espanol-con-python/#more-5722\n"
   ]
  }
 ],
 "metadata": {
  "@webio": {
   "lastCommId": "a64839b2f6a1456582823eaa2e227ba4",
   "lastKernelId": "21a0c607-1c10-401d-a60b-f96d2695a267"
  },
  "kernelspec": {
   "display_name": "Python 3",
   "language": "python",
   "name": "python3"
  },
  "language_info": {
   "codemirror_mode": {
    "name": "ipython",
    "version": 3
   },
   "file_extension": ".py",
   "mimetype": "text/x-python",
   "name": "python",
   "nbconvert_exporter": "python",
   "pygments_lexer": "ipython3",
   "version": "3.6.8"
  }
 },
 "nbformat": 4,
 "nbformat_minor": 2
}
